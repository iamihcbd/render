{
 "cells": [
  {
   "cell_type": "code",
   "execution_count": 1,
   "id": "593dbd49",
   "metadata": {
    "_cell_guid": "b1076dfc-b9ad-4769-8c92-a6c4dae69d19",
    "_uuid": "8f2839f25d086af736a60e9eeb907d3b93b6e0e5",
    "execution": {
     "iopub.execute_input": "2024-09-25T15:46:48.053511Z",
     "iopub.status.busy": "2024-09-25T15:46:48.052660Z",
     "iopub.status.idle": "2024-09-25T15:46:49.687058Z",
     "shell.execute_reply": "2024-09-25T15:46:49.685810Z"
    },
    "papermill": {
     "duration": 1.649068,
     "end_time": "2024-09-25T15:46:49.689452",
     "exception": false,
     "start_time": "2024-09-25T15:46:48.040384",
     "status": "completed"
    },
    "tags": []
   },
   "outputs": [
    {
     "name": "stdout",
     "output_type": "stream",
     "text": [
      "/kaggle/input/gdp-of-all-countries19602020/gdp_1960_2020.csv\n"
     ]
    }
   ],
   "source": [
    "# This Python 3 environment comes with many helpful analytics libraries installed\n",
    "# It is defined by the kaggle/python Docker image: https://github.com/kaggle/docker-python\n",
    "# For example, here's several helpful packages to load\n",
    "\n",
    "import numpy as np # linear algebra\n",
    "import pandas as pd # data processing, CSV file I/O (e.g. pd.read_csv)\n",
    "import matplotlib.pyplot as plt\n",
    "import plotly.express as px\n",
    "\n",
    "# Input data files are available in the read-only \"../input/\" directory\n",
    "# For example, running this (by clicking run or pressing Shift+Enter) will list all files under the input directory\n",
    "\n",
    "import os\n",
    "for dirname, _, filenames in os.walk('/kaggle/input'):\n",
    "    for filename in filenames:\n",
    "        print(os.path.join(dirname, filename))\n",
    "\n",
    "# You can write up to 20GB to the current directory (/kaggle/working/) that gets preserved as output when you create a version using \"Save & Run All\" \n",
    "# You can also write temporary files to /kaggle/temp/, but they won't be saved outside of the current session"
   ]
  },
  {
   "cell_type": "markdown",
   "id": "515f51ae",
   "metadata": {
    "papermill": {
     "duration": 0.009824,
     "end_time": "2024-09-25T15:46:49.709919",
     "exception": false,
     "start_time": "2024-09-25T15:46:49.700095",
     "status": "completed"
    },
    "tags": []
   },
   "source": [
    "Name: Ibrahim Haque Choudhury<br/>\n",
    "Student ID: 1221400091<br/>\n",
    "Subject: Data Analytics Visualization"
   ]
  },
  {
   "cell_type": "code",
   "execution_count": 2,
   "id": "5aad7490",
   "metadata": {
    "execution": {
     "iopub.execute_input": "2024-09-25T15:46:49.732178Z",
     "iopub.status.busy": "2024-09-25T15:46:49.731537Z",
     "iopub.status.idle": "2024-09-25T15:46:49.782711Z",
     "shell.execute_reply": "2024-09-25T15:46:49.781424Z"
    },
    "papermill": {
     "duration": 0.0654,
     "end_time": "2024-09-25T15:46:49.785449",
     "exception": false,
     "start_time": "2024-09-25T15:46:49.720049",
     "status": "completed"
    },
    "tags": []
   },
   "outputs": [],
   "source": [
    "df = pd.read_csv(\"/kaggle/input/gdp-of-all-countries19602020/gdp_1960_2020.csv\")"
   ]
  },
  {
   "cell_type": "code",
   "execution_count": 3,
   "id": "19b7d3ff",
   "metadata": {
    "execution": {
     "iopub.execute_input": "2024-09-25T15:46:49.808959Z",
     "iopub.status.busy": "2024-09-25T15:46:49.807956Z",
     "iopub.status.idle": "2024-09-25T15:46:49.842460Z",
     "shell.execute_reply": "2024-09-25T15:46:49.841138Z"
    },
    "papermill": {
     "duration": 0.048977,
     "end_time": "2024-09-25T15:46:49.845059",
     "exception": false,
     "start_time": "2024-09-25T15:46:49.796082",
     "status": "completed"
    },
    "tags": []
   },
   "outputs": [
    {
     "name": "stdout",
     "output_type": "stream",
     "text": [
      "<class 'pandas.core.frame.DataFrame'>\n",
      "RangeIndex: 10134 entries, 0 to 10133\n",
      "Data columns (total 6 columns):\n",
      " #   Column       Non-Null Count  Dtype  \n",
      "---  ------       --------------  -----  \n",
      " 0   year         10134 non-null  int64  \n",
      " 1   rank         10134 non-null  int64  \n",
      " 2   country      10134 non-null  object \n",
      " 3   state        10134 non-null  object \n",
      " 4   gdp          10134 non-null  int64  \n",
      " 5   gdp_percent  10134 non-null  float64\n",
      "dtypes: float64(1), int64(3), object(2)\n",
      "memory usage: 475.2+ KB\n"
     ]
    }
   ],
   "source": [
    "df.info()"
   ]
  },
  {
   "cell_type": "code",
   "execution_count": 4,
   "id": "3503b6fd",
   "metadata": {
    "execution": {
     "iopub.execute_input": "2024-09-25T15:46:49.868023Z",
     "iopub.status.busy": "2024-09-25T15:46:49.867509Z",
     "iopub.status.idle": "2024-09-25T15:46:49.887259Z",
     "shell.execute_reply": "2024-09-25T15:46:49.885858Z"
    },
    "papermill": {
     "duration": 0.033798,
     "end_time": "2024-09-25T15:46:49.889752",
     "exception": false,
     "start_time": "2024-09-25T15:46:49.855954",
     "status": "completed"
    },
    "tags": []
   },
   "outputs": [
    {
     "data": {
      "text/html": [
       "<div>\n",
       "<style scoped>\n",
       "    .dataframe tbody tr th:only-of-type {\n",
       "        vertical-align: middle;\n",
       "    }\n",
       "\n",
       "    .dataframe tbody tr th {\n",
       "        vertical-align: top;\n",
       "    }\n",
       "\n",
       "    .dataframe thead th {\n",
       "        text-align: right;\n",
       "    }\n",
       "</style>\n",
       "<table border=\"1\" class=\"dataframe\">\n",
       "  <thead>\n",
       "    <tr style=\"text-align: right;\">\n",
       "      <th></th>\n",
       "      <th>year</th>\n",
       "      <th>rank</th>\n",
       "      <th>country</th>\n",
       "      <th>state</th>\n",
       "      <th>gdp</th>\n",
       "      <th>gdp_percent</th>\n",
       "    </tr>\n",
       "  </thead>\n",
       "  <tbody>\n",
       "    <tr>\n",
       "      <th>0</th>\n",
       "      <td>1960</td>\n",
       "      <td>1</td>\n",
       "      <td>the United States</td>\n",
       "      <td>America</td>\n",
       "      <td>543300000000</td>\n",
       "      <td>0.468483</td>\n",
       "    </tr>\n",
       "    <tr>\n",
       "      <th>1</th>\n",
       "      <td>1960</td>\n",
       "      <td>2</td>\n",
       "      <td>United Kingdom</td>\n",
       "      <td>Europe</td>\n",
       "      <td>73233967692</td>\n",
       "      <td>0.063149</td>\n",
       "    </tr>\n",
       "    <tr>\n",
       "      <th>2</th>\n",
       "      <td>1960</td>\n",
       "      <td>3</td>\n",
       "      <td>France</td>\n",
       "      <td>Europe</td>\n",
       "      <td>62225478000</td>\n",
       "      <td>0.053656</td>\n",
       "    </tr>\n",
       "    <tr>\n",
       "      <th>3</th>\n",
       "      <td>1960</td>\n",
       "      <td>4</td>\n",
       "      <td>China</td>\n",
       "      <td>Asia</td>\n",
       "      <td>59716467625</td>\n",
       "      <td>0.051493</td>\n",
       "    </tr>\n",
       "    <tr>\n",
       "      <th>4</th>\n",
       "      <td>1960</td>\n",
       "      <td>5</td>\n",
       "      <td>Japan</td>\n",
       "      <td>Asia</td>\n",
       "      <td>44307342950</td>\n",
       "      <td>0.038206</td>\n",
       "    </tr>\n",
       "  </tbody>\n",
       "</table>\n",
       "</div>"
      ],
      "text/plain": [
       "   year  rank            country    state           gdp  gdp_percent\n",
       "0  1960     1  the United States  America  543300000000     0.468483\n",
       "1  1960     2     United Kingdom   Europe   73233967692     0.063149\n",
       "2  1960     3             France   Europe   62225478000     0.053656\n",
       "3  1960     4              China     Asia   59716467625     0.051493\n",
       "4  1960     5              Japan     Asia   44307342950     0.038206"
      ]
     },
     "execution_count": 4,
     "metadata": {},
     "output_type": "execute_result"
    }
   ],
   "source": [
    "df.head()"
   ]
  },
  {
   "cell_type": "code",
   "execution_count": 5,
   "id": "d3da6909",
   "metadata": {
    "execution": {
     "iopub.execute_input": "2024-09-25T15:46:49.912754Z",
     "iopub.status.busy": "2024-09-25T15:46:49.912290Z",
     "iopub.status.idle": "2024-09-25T15:46:49.927244Z",
     "shell.execute_reply": "2024-09-25T15:46:49.925064Z"
    },
    "papermill": {
     "duration": 0.030569,
     "end_time": "2024-09-25T15:46:49.930886",
     "exception": false,
     "start_time": "2024-09-25T15:46:49.900317",
     "status": "completed"
    },
    "tags": []
   },
   "outputs": [
    {
     "data": {
      "text/html": [
       "<div>\n",
       "<style scoped>\n",
       "    .dataframe tbody tr th:only-of-type {\n",
       "        vertical-align: middle;\n",
       "    }\n",
       "\n",
       "    .dataframe tbody tr th {\n",
       "        vertical-align: top;\n",
       "    }\n",
       "\n",
       "    .dataframe thead th {\n",
       "        text-align: right;\n",
       "    }\n",
       "</style>\n",
       "<table border=\"1\" class=\"dataframe\">\n",
       "  <thead>\n",
       "    <tr style=\"text-align: right;\">\n",
       "      <th></th>\n",
       "      <th>year</th>\n",
       "      <th>rank</th>\n",
       "      <th>country</th>\n",
       "      <th>state</th>\n",
       "      <th>gdp</th>\n",
       "      <th>gdp_percent</th>\n",
       "    </tr>\n",
       "  </thead>\n",
       "  <tbody>\n",
       "    <tr>\n",
       "      <th>10129</th>\n",
       "      <td>2020</td>\n",
       "      <td>171</td>\n",
       "      <td>Samoa</td>\n",
       "      <td>Oceania</td>\n",
       "      <td>807027244</td>\n",
       "      <td>1.040774e-05</td>\n",
       "    </tr>\n",
       "    <tr>\n",
       "      <th>10130</th>\n",
       "      <td>2020</td>\n",
       "      <td>172</td>\n",
       "      <td>Sao Tome and Principe.</td>\n",
       "      <td>Africa</td>\n",
       "      <td>472914469</td>\n",
       "      <td>6.098888e-06</td>\n",
       "    </tr>\n",
       "    <tr>\n",
       "      <th>10131</th>\n",
       "      <td>2020</td>\n",
       "      <td>173</td>\n",
       "      <td>Dominica</td>\n",
       "      <td>America</td>\n",
       "      <td>469870370</td>\n",
       "      <td>6.059630e-06</td>\n",
       "    </tr>\n",
       "    <tr>\n",
       "      <th>10132</th>\n",
       "      <td>2020</td>\n",
       "      <td>174</td>\n",
       "      <td>Kiribati</td>\n",
       "      <td>Oceania</td>\n",
       "      <td>199573325</td>\n",
       "      <td>2.573775e-06</td>\n",
       "    </tr>\n",
       "    <tr>\n",
       "      <th>10133</th>\n",
       "      <td>2020</td>\n",
       "      <td>175</td>\n",
       "      <td>Tuvalu</td>\n",
       "      <td>Oceania</td>\n",
       "      <td>48855550</td>\n",
       "      <td>6.300601e-07</td>\n",
       "    </tr>\n",
       "  </tbody>\n",
       "</table>\n",
       "</div>"
      ],
      "text/plain": [
       "       year  rank                 country    state        gdp   gdp_percent\n",
       "10129  2020   171                   Samoa  Oceania  807027244  1.040774e-05\n",
       "10130  2020   172  Sao Tome and Principe.   Africa  472914469  6.098888e-06\n",
       "10131  2020   173                Dominica  America  469870370  6.059630e-06\n",
       "10132  2020   174                Kiribati  Oceania  199573325  2.573775e-06\n",
       "10133  2020   175                  Tuvalu  Oceania   48855550  6.300601e-07"
      ]
     },
     "execution_count": 5,
     "metadata": {},
     "output_type": "execute_result"
    }
   ],
   "source": [
    "df.tail()"
   ]
  },
  {
   "cell_type": "code",
   "execution_count": 6,
   "id": "6934b329",
   "metadata": {
    "execution": {
     "iopub.execute_input": "2024-09-25T15:46:49.955120Z",
     "iopub.status.busy": "2024-09-25T15:46:49.954683Z",
     "iopub.status.idle": "2024-09-25T15:46:49.964688Z",
     "shell.execute_reply": "2024-09-25T15:46:49.963611Z"
    },
    "papermill": {
     "duration": 0.025299,
     "end_time": "2024-09-25T15:46:49.967256",
     "exception": false,
     "start_time": "2024-09-25T15:46:49.941957",
     "status": "completed"
    },
    "tags": []
   },
   "outputs": [],
   "source": [
    "subset_2000 = df[df['year'].isin([2000])]"
   ]
  },
  {
   "cell_type": "code",
   "execution_count": 7,
   "id": "d628acfb",
   "metadata": {
    "execution": {
     "iopub.execute_input": "2024-09-25T15:46:49.990520Z",
     "iopub.status.busy": "2024-09-25T15:46:49.990086Z",
     "iopub.status.idle": "2024-09-25T15:46:49.996489Z",
     "shell.execute_reply": "2024-09-25T15:46:49.995291Z"
    },
    "papermill": {
     "duration": 0.020835,
     "end_time": "2024-09-25T15:46:49.998952",
     "exception": false,
     "start_time": "2024-09-25T15:46:49.978117",
     "status": "completed"
    },
    "tags": []
   },
   "outputs": [
    {
     "name": "stdout",
     "output_type": "stream",
     "text": [
      "168038491780.37375\n"
     ]
    }
   ],
   "source": [
    "average_2000 = np.mean(subset_2000['gdp'])\n",
    "print(average_2000)"
   ]
  },
  {
   "cell_type": "code",
   "execution_count": 8,
   "id": "d2322fb9",
   "metadata": {
    "execution": {
     "iopub.execute_input": "2024-09-25T15:46:50.022701Z",
     "iopub.status.busy": "2024-09-25T15:46:50.022256Z",
     "iopub.status.idle": "2024-09-25T15:46:50.028569Z",
     "shell.execute_reply": "2024-09-25T15:46:50.027591Z"
    },
    "papermill": {
     "duration": 0.020677,
     "end_time": "2024-09-25T15:46:50.030871",
     "exception": false,
     "start_time": "2024-09-25T15:46:50.010194",
     "status": "completed"
    },
    "tags": []
   },
   "outputs": [],
   "source": [
    "subset_2010 = df[df['year'].isin([2010])]"
   ]
  },
  {
   "cell_type": "code",
   "execution_count": 9,
   "id": "ef4f0512",
   "metadata": {
    "execution": {
     "iopub.execute_input": "2024-09-25T15:46:50.054114Z",
     "iopub.status.busy": "2024-09-25T15:46:50.053711Z",
     "iopub.status.idle": "2024-09-25T15:46:50.059713Z",
     "shell.execute_reply": "2024-09-25T15:46:50.058578Z"
    },
    "papermill": {
     "duration": 0.022736,
     "end_time": "2024-09-25T15:46:50.064411",
     "exception": false,
     "start_time": "2024-09-25T15:46:50.041675",
     "status": "completed"
    },
    "tags": []
   },
   "outputs": [
    {
     "name": "stdout",
     "output_type": "stream",
     "text": [
      "321502197473.90686\n"
     ]
    }
   ],
   "source": [
    "average_2010 = np.mean(subset_2010['gdp'])\n",
    "print(average_2010)"
   ]
  },
  {
   "cell_type": "code",
   "execution_count": 10,
   "id": "66d05b22",
   "metadata": {
    "execution": {
     "iopub.execute_input": "2024-09-25T15:46:50.088508Z",
     "iopub.status.busy": "2024-09-25T15:46:50.088067Z",
     "iopub.status.idle": "2024-09-25T15:46:50.094697Z",
     "shell.execute_reply": "2024-09-25T15:46:50.093713Z"
    },
    "papermill": {
     "duration": 0.021461,
     "end_time": "2024-09-25T15:46:50.097145",
     "exception": false,
     "start_time": "2024-09-25T15:46:50.075684",
     "status": "completed"
    },
    "tags": []
   },
   "outputs": [],
   "source": [
    "subset_2020 = df[df['year'].isin([2020])]"
   ]
  },
  {
   "cell_type": "code",
   "execution_count": 11,
   "id": "e85cd7dd",
   "metadata": {
    "execution": {
     "iopub.execute_input": "2024-09-25T15:46:50.123243Z",
     "iopub.status.busy": "2024-09-25T15:46:50.122346Z",
     "iopub.status.idle": "2024-09-25T15:46:50.135432Z",
     "shell.execute_reply": "2024-09-25T15:46:50.134347Z"
    },
    "papermill": {
     "duration": 0.028103,
     "end_time": "2024-09-25T15:46:50.137783",
     "exception": false,
     "start_time": "2024-09-25T15:46:50.109680",
     "status": "completed"
    },
    "tags": []
   },
   "outputs": [
    {
     "data": {
      "text/html": [
       "<div>\n",
       "<style scoped>\n",
       "    .dataframe tbody tr th:only-of-type {\n",
       "        vertical-align: middle;\n",
       "    }\n",
       "\n",
       "    .dataframe tbody tr th {\n",
       "        vertical-align: top;\n",
       "    }\n",
       "\n",
       "    .dataframe thead th {\n",
       "        text-align: right;\n",
       "    }\n",
       "</style>\n",
       "<table border=\"1\" class=\"dataframe\">\n",
       "  <thead>\n",
       "    <tr style=\"text-align: right;\">\n",
       "      <th></th>\n",
       "      <th>year</th>\n",
       "      <th>rank</th>\n",
       "      <th>country</th>\n",
       "      <th>state</th>\n",
       "      <th>gdp</th>\n",
       "      <th>gdp_percent</th>\n",
       "    </tr>\n",
       "  </thead>\n",
       "  <tbody>\n",
       "    <tr>\n",
       "      <th>9959</th>\n",
       "      <td>2020</td>\n",
       "      <td>1</td>\n",
       "      <td>the United States</td>\n",
       "      <td>America</td>\n",
       "      <td>20936600000000</td>\n",
       "      <td>0.270006</td>\n",
       "    </tr>\n",
       "    <tr>\n",
       "      <th>9960</th>\n",
       "      <td>2020</td>\n",
       "      <td>2</td>\n",
       "      <td>China</td>\n",
       "      <td>Asia</td>\n",
       "      <td>14722730697890</td>\n",
       "      <td>0.189870</td>\n",
       "    </tr>\n",
       "    <tr>\n",
       "      <th>9961</th>\n",
       "      <td>2020</td>\n",
       "      <td>3</td>\n",
       "      <td>Germany</td>\n",
       "      <td>Europe</td>\n",
       "      <td>3806060140124</td>\n",
       "      <td>0.049084</td>\n",
       "    </tr>\n",
       "    <tr>\n",
       "      <th>9962</th>\n",
       "      <td>2020</td>\n",
       "      <td>4</td>\n",
       "      <td>United Kingdom</td>\n",
       "      <td>Europe</td>\n",
       "      <td>2707743777173</td>\n",
       "      <td>0.034920</td>\n",
       "    </tr>\n",
       "    <tr>\n",
       "      <th>9963</th>\n",
       "      <td>2020</td>\n",
       "      <td>5</td>\n",
       "      <td>India</td>\n",
       "      <td>Asia</td>\n",
       "      <td>2622983732006</td>\n",
       "      <td>0.033827</td>\n",
       "    </tr>\n",
       "  </tbody>\n",
       "</table>\n",
       "</div>"
      ],
      "text/plain": [
       "      year  rank            country    state             gdp  gdp_percent\n",
       "9959  2020     1  the United States  America  20936600000000     0.270006\n",
       "9960  2020     2              China     Asia  14722730697890     0.189870\n",
       "9961  2020     3            Germany   Europe   3806060140124     0.049084\n",
       "9962  2020     4     United Kingdom   Europe   2707743777173     0.034920\n",
       "9963  2020     5              India     Asia   2622983732006     0.033827"
      ]
     },
     "execution_count": 11,
     "metadata": {},
     "output_type": "execute_result"
    }
   ],
   "source": [
    "subset_2020.head()"
   ]
  },
  {
   "cell_type": "code",
   "execution_count": 12,
   "id": "ebe4845d",
   "metadata": {
    "execution": {
     "iopub.execute_input": "2024-09-25T15:46:50.164118Z",
     "iopub.status.busy": "2024-09-25T15:46:50.163028Z",
     "iopub.status.idle": "2024-09-25T15:46:50.176700Z",
     "shell.execute_reply": "2024-09-25T15:46:50.175634Z"
    },
    "papermill": {
     "duration": 0.029997,
     "end_time": "2024-09-25T15:46:50.179039",
     "exception": false,
     "start_time": "2024-09-25T15:46:50.149042",
     "status": "completed"
    },
    "tags": []
   },
   "outputs": [
    {
     "data": {
      "text/html": [
       "<div>\n",
       "<style scoped>\n",
       "    .dataframe tbody tr th:only-of-type {\n",
       "        vertical-align: middle;\n",
       "    }\n",
       "\n",
       "    .dataframe tbody tr th {\n",
       "        vertical-align: top;\n",
       "    }\n",
       "\n",
       "    .dataframe thead th {\n",
       "        text-align: right;\n",
       "    }\n",
       "</style>\n",
       "<table border=\"1\" class=\"dataframe\">\n",
       "  <thead>\n",
       "    <tr style=\"text-align: right;\">\n",
       "      <th></th>\n",
       "      <th>year</th>\n",
       "      <th>rank</th>\n",
       "      <th>country</th>\n",
       "      <th>state</th>\n",
       "      <th>gdp</th>\n",
       "      <th>gdp_percent</th>\n",
       "    </tr>\n",
       "  </thead>\n",
       "  <tbody>\n",
       "    <tr>\n",
       "      <th>10129</th>\n",
       "      <td>2020</td>\n",
       "      <td>171</td>\n",
       "      <td>Samoa</td>\n",
       "      <td>Oceania</td>\n",
       "      <td>807027244</td>\n",
       "      <td>1.040774e-05</td>\n",
       "    </tr>\n",
       "    <tr>\n",
       "      <th>10130</th>\n",
       "      <td>2020</td>\n",
       "      <td>172</td>\n",
       "      <td>Sao Tome and Principe.</td>\n",
       "      <td>Africa</td>\n",
       "      <td>472914469</td>\n",
       "      <td>6.098888e-06</td>\n",
       "    </tr>\n",
       "    <tr>\n",
       "      <th>10131</th>\n",
       "      <td>2020</td>\n",
       "      <td>173</td>\n",
       "      <td>Dominica</td>\n",
       "      <td>America</td>\n",
       "      <td>469870370</td>\n",
       "      <td>6.059630e-06</td>\n",
       "    </tr>\n",
       "    <tr>\n",
       "      <th>10132</th>\n",
       "      <td>2020</td>\n",
       "      <td>174</td>\n",
       "      <td>Kiribati</td>\n",
       "      <td>Oceania</td>\n",
       "      <td>199573325</td>\n",
       "      <td>2.573775e-06</td>\n",
       "    </tr>\n",
       "    <tr>\n",
       "      <th>10133</th>\n",
       "      <td>2020</td>\n",
       "      <td>175</td>\n",
       "      <td>Tuvalu</td>\n",
       "      <td>Oceania</td>\n",
       "      <td>48855550</td>\n",
       "      <td>6.300601e-07</td>\n",
       "    </tr>\n",
       "  </tbody>\n",
       "</table>\n",
       "</div>"
      ],
      "text/plain": [
       "       year  rank                 country    state        gdp   gdp_percent\n",
       "10129  2020   171                   Samoa  Oceania  807027244  1.040774e-05\n",
       "10130  2020   172  Sao Tome and Principe.   Africa  472914469  6.098888e-06\n",
       "10131  2020   173                Dominica  America  469870370  6.059630e-06\n",
       "10132  2020   174                Kiribati  Oceania  199573325  2.573775e-06\n",
       "10133  2020   175                  Tuvalu  Oceania   48855550  6.300601e-07"
      ]
     },
     "execution_count": 12,
     "metadata": {},
     "output_type": "execute_result"
    }
   ],
   "source": [
    "subset_2020.tail()"
   ]
  },
  {
   "cell_type": "code",
   "execution_count": 13,
   "id": "f4cfa5de",
   "metadata": {
    "execution": {
     "iopub.execute_input": "2024-09-25T15:46:50.204320Z",
     "iopub.status.busy": "2024-09-25T15:46:50.203352Z",
     "iopub.status.idle": "2024-09-25T15:46:50.209582Z",
     "shell.execute_reply": "2024-09-25T15:46:50.208477Z"
    },
    "papermill": {
     "duration": 0.021827,
     "end_time": "2024-09-25T15:46:50.212325",
     "exception": false,
     "start_time": "2024-09-25T15:46:50.190498",
     "status": "completed"
    },
    "tags": []
   },
   "outputs": [
    {
     "name": "stdout",
     "output_type": "stream",
     "text": [
      "443091986693.34283\n"
     ]
    }
   ],
   "source": [
    "average_2020 = np.mean(subset_2020['gdp'])\n",
    "print(average_2020)"
   ]
  },
  {
   "cell_type": "code",
   "execution_count": 14,
   "id": "89b54022",
   "metadata": {
    "execution": {
     "iopub.execute_input": "2024-09-25T15:46:50.237979Z",
     "iopub.status.busy": "2024-09-25T15:46:50.237170Z",
     "iopub.status.idle": "2024-09-25T15:46:50.244379Z",
     "shell.execute_reply": "2024-09-25T15:46:50.243307Z"
    },
    "papermill": {
     "duration": 0.022929,
     "end_time": "2024-09-25T15:46:50.246833",
     "exception": false,
     "start_time": "2024-09-25T15:46:50.223904",
     "status": "completed"
    },
    "tags": []
   },
   "outputs": [
    {
     "data": {
      "text/plain": [
       "275053494912.9691"
      ]
     },
     "execution_count": 14,
     "metadata": {},
     "output_type": "execute_result"
    }
   ],
   "source": [
    "average_2020 - average_2000"
   ]
  },
  {
   "cell_type": "code",
   "execution_count": 15,
   "id": "346ec820",
   "metadata": {
    "execution": {
     "iopub.execute_input": "2024-09-25T15:46:50.272982Z",
     "iopub.status.busy": "2024-09-25T15:46:50.271900Z",
     "iopub.status.idle": "2024-09-25T15:46:50.279784Z",
     "shell.execute_reply": "2024-09-25T15:46:50.278387Z"
    },
    "papermill": {
     "duration": 0.023598,
     "end_time": "2024-09-25T15:46:50.282182",
     "exception": false,
     "start_time": "2024-09-25T15:46:50.258584",
     "status": "completed"
    },
    "tags": []
   },
   "outputs": [
    {
     "data": {
      "text/plain": [
       "121589789219.43597"
      ]
     },
     "execution_count": 15,
     "metadata": {},
     "output_type": "execute_result"
    }
   ],
   "source": [
    "average_2020 - average_2010"
   ]
  },
  {
   "cell_type": "code",
   "execution_count": 16,
   "id": "2cb4ccf3",
   "metadata": {
    "execution": {
     "iopub.execute_input": "2024-09-25T15:46:50.308812Z",
     "iopub.status.busy": "2024-09-25T15:46:50.308373Z",
     "iopub.status.idle": "2024-09-25T15:46:50.315463Z",
     "shell.execute_reply": "2024-09-25T15:46:50.314376Z"
    },
    "papermill": {
     "duration": 0.023417,
     "end_time": "2024-09-25T15:46:50.318098",
     "exception": false,
     "start_time": "2024-09-25T15:46:50.294681",
     "status": "completed"
    },
    "tags": []
   },
   "outputs": [],
   "source": [
    "subset_Malaysia = df[df['country'].isin([\"Malaysia\"])]"
   ]
  },
  {
   "cell_type": "code",
   "execution_count": 17,
   "id": "111742e1",
   "metadata": {
    "execution": {
     "iopub.execute_input": "2024-09-25T15:46:50.343809Z",
     "iopub.status.busy": "2024-09-25T15:46:50.343380Z",
     "iopub.status.idle": "2024-09-25T15:46:50.357094Z",
     "shell.execute_reply": "2024-09-25T15:46:50.355861Z"
    },
    "papermill": {
     "duration": 0.029554,
     "end_time": "2024-09-25T15:46:50.359612",
     "exception": false,
     "start_time": "2024-09-25T15:46:50.330058",
     "status": "completed"
    },
    "tags": []
   },
   "outputs": [
    {
     "data": {
      "text/html": [
       "<div>\n",
       "<style scoped>\n",
       "    .dataframe tbody tr th:only-of-type {\n",
       "        vertical-align: middle;\n",
       "    }\n",
       "\n",
       "    .dataframe tbody tr th {\n",
       "        vertical-align: top;\n",
       "    }\n",
       "\n",
       "    .dataframe thead th {\n",
       "        text-align: right;\n",
       "    }\n",
       "</style>\n",
       "<table border=\"1\" class=\"dataframe\">\n",
       "  <thead>\n",
       "    <tr style=\"text-align: right;\">\n",
       "      <th></th>\n",
       "      <th>year</th>\n",
       "      <th>rank</th>\n",
       "      <th>country</th>\n",
       "      <th>state</th>\n",
       "      <th>gdp</th>\n",
       "      <th>gdp_percent</th>\n",
       "    </tr>\n",
       "  </thead>\n",
       "  <tbody>\n",
       "    <tr>\n",
       "      <th>9183</th>\n",
       "      <td>2016</td>\n",
       "      <td>37</td>\n",
       "      <td>Malaysia</td>\n",
       "      <td>Asia</td>\n",
       "      <td>301255380276</td>\n",
       "      <td>0.004001</td>\n",
       "    </tr>\n",
       "    <tr>\n",
       "      <th>9389</th>\n",
       "      <td>2017</td>\n",
       "      <td>38</td>\n",
       "      <td>Malaysia</td>\n",
       "      <td>Asia</td>\n",
       "      <td>319112136545</td>\n",
       "      <td>0.003982</td>\n",
       "    </tr>\n",
       "    <tr>\n",
       "      <th>9591</th>\n",
       "      <td>2018</td>\n",
       "      <td>36</td>\n",
       "      <td>Malaysia</td>\n",
       "      <td>Asia</td>\n",
       "      <td>358715057123</td>\n",
       "      <td>0.004211</td>\n",
       "    </tr>\n",
       "    <tr>\n",
       "      <th>9793</th>\n",
       "      <td>2019</td>\n",
       "      <td>34</td>\n",
       "      <td>Malaysia</td>\n",
       "      <td>Asia</td>\n",
       "      <td>364681367531</td>\n",
       "      <td>0.004228</td>\n",
       "    </tr>\n",
       "    <tr>\n",
       "      <th>9993</th>\n",
       "      <td>2020</td>\n",
       "      <td>35</td>\n",
       "      <td>Malaysia</td>\n",
       "      <td>Asia</td>\n",
       "      <td>336664444247</td>\n",
       "      <td>0.004342</td>\n",
       "    </tr>\n",
       "  </tbody>\n",
       "</table>\n",
       "</div>"
      ],
      "text/plain": [
       "      year  rank   country state           gdp  gdp_percent\n",
       "9183  2016    37  Malaysia  Asia  301255380276     0.004001\n",
       "9389  2017    38  Malaysia  Asia  319112136545     0.003982\n",
       "9591  2018    36  Malaysia  Asia  358715057123     0.004211\n",
       "9793  2019    34  Malaysia  Asia  364681367531     0.004228\n",
       "9993  2020    35  Malaysia  Asia  336664444247     0.004342"
      ]
     },
     "execution_count": 17,
     "metadata": {},
     "output_type": "execute_result"
    }
   ],
   "source": [
    "subset_Malaysia.tail()"
   ]
  },
  {
   "cell_type": "code",
   "execution_count": 18,
   "id": "27834e29",
   "metadata": {
    "execution": {
     "iopub.execute_input": "2024-09-25T15:46:50.387746Z",
     "iopub.status.busy": "2024-09-25T15:46:50.387014Z",
     "iopub.status.idle": "2024-09-25T15:46:50.721826Z",
     "shell.execute_reply": "2024-09-25T15:46:50.720618Z"
    },
    "papermill": {
     "duration": 0.352655,
     "end_time": "2024-09-25T15:46:50.724531",
     "exception": false,
     "start_time": "2024-09-25T15:46:50.371876",
     "status": "completed"
    },
    "tags": []
   },
   "outputs": [
    {
     "data": {
      "text/plain": [
       "<matplotlib.collections.PathCollection at 0x7c73e58bb940>"
      ]
     },
     "execution_count": 18,
     "metadata": {},
     "output_type": "execute_result"
    },
    {
     "data": {
      "image/png": "[encoded data removed]",
      "text/plain": [
       "<Figure size 640x480 with 1 Axes>"
      ]
     },
     "metadata": {},
     "output_type": "display_data"
    }
   ],
   "source": [
    "plt.scatter(subset_Malaysia['year'], subset_Malaysia['gdp'])"
   ]
  },
  {
   "cell_type": "code",
   "execution_count": 19,
   "id": "fd902f95",
   "metadata": {
    "execution": {
     "iopub.execute_input": "2024-09-25T15:46:50.752683Z",
     "iopub.status.busy": "2024-09-25T15:46:50.752209Z",
     "iopub.status.idle": "2024-09-25T15:46:52.814030Z",
     "shell.execute_reply": "2024-09-25T15:46:52.812939Z"
    },
    "papermill": {
     "duration": 2.078167,
     "end_time": "2024-09-25T15:46:52.816379",
     "exception": false,
     "start_time": "2024-09-25T15:46:50.738212",
     "status": "completed"
    },
    "tags": []
   },
   "outputs": [
    {
     "data": {
      "text/html": [
       "        <script type=\"text/javascript\">\n",
       "        window.PlotlyConfig = {MathJaxConfig: 'local'};\n",
       "        if (window.MathJax && window.MathJax.Hub && window.MathJax.Hub.Config) {window.MathJax.Hub.Config({SVG: {font: \"STIX-Web\"}});}\n",
       "        if (typeof require !== 'undefined') {\n",
       "        require.undef(\"plotly\");\n",
       "        requirejs.config({\n",
       "            paths: {\n",
       "                'plotly': ['https://cdn.plot.ly/plotly-2.32.0.min']\n",
       "            }\n",
       "        });\n",
       "        require(['plotly'], function(Plotly) {\n",
       "            window._Plotly = Plotly;\n",
       "        });\n",
       "        }\n",
       "        </script>\n",
       "        "
      ]
     },
     "metadata": {},
     "output_type": "display_data"
    },
    {
     "data": {
      "text/html": [
       "<div>                            <div id=\"291d4bed-f533-49bd-99a9-b2323a718e22\" class=\"plotly-graph-div\" style=\"height:525px; width:100%;\"></div>            <script type=\"text/javascript\">                require([\"plotly\"], function(Plotly) {                    window.PLOTLYENV=window.PLOTLYENV || {};                                    if (document.getElementById(\"291d4bed-f533-49bd-99a9-b2323a718e22\")) {                    Plotly.newPlot(                        \"291d4bed-f533-49bd-99a9-b2323a718e22\",                        [{\"hovertemplate\":\"year=%{x}\\u003cbr\\u003egdp=%{y}\\u003cextra\\u003e\\u003c\\u002fextra\\u003e\",\"legendgroup\":\"\",\"marker\":{\"color\":\"#636efa\",\"symbol\":\"circle\"},\"mode\":\"markers\",\"name\":\"\",\"orientation\":\"v\",\"showlegend\":false,\"x\":[1960,1961,1962,1963,1964,1965,1966,1967,1968,1969,1970,1971,1972,1973,1974,1975,1976,1977,1978,1979,1980,1981,1982,1983,1984,1985,1986,1987,1988,1989,1990,1991,1992,1993,1994,1995,1996,1997,1998,1999,2000,2001,2002,2003,2004,2005,2006,2007,2008,2009,2010,2011,2012,2013,2014,2015,2016,2017,2018,2019,2020],\"xaxis\":\"x\",\"y\":[1916241996,1901868548,2001502678,2510126747,2674441395,2956356984,3143538481,3188945511,3330393309,3664575983,3864170913,4244340333,5043268548,7662996766,9496074114,9298800799,11050125904,13139397879,16358376511,21213672089,24488033442,25004557093,26804401815,30346788437,33943505717,31200161095,27734562640,32181695507,35271880250,38848567631,44024178343,49143148094,59167550162,66894837030,74478356957,88705342902,100855393910,100005323301,72167498980,79148421052,93789736842,92783947368,100845526315,110202368421,124749473684,143534102611,162691238209,193547824063,230813897715,202257625195,255016609232,297951960784,314443149443,323277158906,338061963396,301354803994,301255380276,319112136545,358715057123,364681367531,336664444247],\"yaxis\":\"y\",\"type\":\"scatter\"}],                        {\"template\":{\"data\":{\"histogram2dcontour\":[{\"type\":\"histogram2dcontour\",\"colorbar\":{\"outlinewidth\":0,\"ticks\":\"\"},\"colorscale\":[[0.0,\"#0d0887\"],[0.1111111111111111,\"#46039f\"],[0.2222222222222222,\"#7201a8\"],[0.3333333333333333,\"#9c179e\"],[0.4444444444444444,\"#bd3786\"],[0.5555555555555556,\"#d8576b\"],[0.6666666666666666,\"#ed7953\"],[0.7777777777777778,\"#fb9f3a\"],[0.8888888888888888,\"#fdca26\"],[1.0,\"#f0f921\"]]}],\"choropleth\":[{\"type\":\"choropleth\",\"colorbar\":{\"outlinewidth\":0,\"ticks\":\"\"}}],\"histogram2d\":[{\"type\":\"histogram2d\",\"colorbar\":{\"outlinewidth\":0,\"ticks\":\"\"},\"colorscale\":[[0.0,\"#0d0887\"],[0.1111111111111111,\"#46039f\"],[0.2222222222222222,\"#7201a8\"],[0.3333333333333333,\"#9c179e\"],[0.4444444444444444,\"#bd3786\"],[0.5555555555555556,\"#d8576b\"],[0.6666666666666666,\"#ed7953\"],[0.7777777777777778,\"#fb9f3a\"],[0.8888888888888888,\"#fdca26\"],[1.0,\"#f0f921\"]]}],\"heatmap\":[{\"type\":\"heatmap\",\"colorbar\":{\"outlinewidth\":0,\"ticks\":\"\"},\"colorscale\":[[0.0,\"#0d0887\"],[0.1111111111111111,\"#46039f\"],[0.2222222222222222,\"#7201a8\"],[0.3333333333333333,\"#9c179e\"],[0.4444444444444444,\"#bd3786\"],[0.5555555555555556,\"#d8576b\"],[0.6666666666666666,\"#ed7953\"],[0.7777777777777778,\"#fb9f3a\"],[0.8888888888888888,\"#fdca26\"],[1.0,\"#f0f921\"]]}],\"heatmapgl\":[{\"type\":\"heatmapgl\",\"colorbar\":{\"outlinewidth\":0,\"ticks\":\"\"},\"colorscale\":[[0.0,\"#0d0887\"],[0.1111111111111111,\"#46039f\"],[0.2222222222222222,\"#7201a8\"],[0.3333333333333333,\"#9c179e\"],[0.4444444444444444,\"#bd3786\"],[0.5555555555555556,\"#d8576b\"],[0.6666666666666666,\"#ed7953\"],[0.7777777777777778,\"#fb9f3a\"],[0.8888888888888888,\"#fdca26\"],[1.0,\"#f0f921\"]]}],\"contourcarpet\":[{\"type\":\"contourcarpet\",\"colorbar\":{\"outlinewidth\":0,\"ticks\":\"\"}}],\"contour\":[{\"type\":\"contour\",\"colorbar\":{\"outlinewidth\":0,\"ticks\":\"\"},\"colorscale\":[[0.0,\"#0d0887\"],[0.1111111111111111,\"#46039f\"],[0.2222222222222222,\"#7201a8\"],[0.3333333333333333,\"#9c179e\"],[0.4444444444444444,\"#bd3786\"],[0.5555555555555556,\"#d8576b\"],[0.6666666666666666,\"#ed7953\"],[0.7777777777777778,\"#fb9f3a\"],[0.8888888888888888,\"#fdca26\"],[1.0,\"#f0f921\"]]}],\"surface\":[{\"type\":\"surface\",\"colorbar\":{\"outlinewidth\":0,\"ticks\":\"\"},\"colorscale\":[[0.0,\"#0d0887\"],[0.1111111111111111,\"#46039f\"],[0.2222222222222222,\"#7201a8\"],[0.3333333333333333,\"#9c179e\"],[0.4444444444444444,\"#bd3786\"],[0.5555555555555556,\"#d8576b\"],[0.6666666666666666,\"#ed7953\"],[0.7777777777777778,\"#fb9f3a\"],[0.8888888888888888,\"#fdca26\"],[1.0,\"#f0f921\"]]}],\"mesh3d\":[{\"type\":\"mesh3d\",\"colorbar\":{\"outlinewidth\":0,\"ticks\":\"\"}}],\"scatter\":[{\"fillpattern\":{\"fillmode\":\"overlay\",\"size\":10,\"solidity\":0.2},\"type\":\"scatter\"}],\"parcoords\":[{\"type\":\"parcoords\",\"line\":{\"colorbar\":{\"outlinewidth\":0,\"ticks\":\"\"}}}],\"scatterpolargl\":[{\"type\":\"scatterpolargl\",\"marker\":{\"colorbar\":{\"outlinewidth\":0,\"ticks\":\"\"}}}],\"bar\":[{\"error_x\":{\"color\":\"#2a3f5f\"},\"error_y\":{\"color\":\"#2a3f5f\"},\"marker\":{\"line\":{\"color\":\"#E5ECF6\",\"width\":0.5},\"pattern\":{\"fillmode\":\"overlay\",\"size\":10,\"solidity\":0.2}},\"type\":\"bar\"}],\"scattergeo\":[{\"type\":\"scattergeo\",\"marker\":{\"colorbar\":{\"outlinewidth\":0,\"ticks\":\"\"}}}],\"scatterpolar\":[{\"type\":\"scatterpolar\",\"marker\":{\"colorbar\":{\"outlinewidth\":0,\"ticks\":\"\"}}}],\"histogram\":[{\"marker\":{\"pattern\":{\"fillmode\":\"overlay\",\"size\":10,\"solidity\":0.2}},\"type\":\"histogram\"}],\"scattergl\":[{\"type\":\"scattergl\",\"marker\":{\"colorbar\":{\"outlinewidth\":0,\"ticks\":\"\"}}}],\"scatter3d\":[{\"type\":\"scatter3d\",\"line\":{\"colorbar\":{\"outlinewidth\":0,\"ticks\":\"\"}},\"marker\":{\"colorbar\":{\"outlinewidth\":0,\"ticks\":\"\"}}}],\"scattermapbox\":[{\"type\":\"scattermapbox\",\"marker\":{\"colorbar\":{\"outlinewidth\":0,\"ticks\":\"\"}}}],\"scatterternary\":[{\"type\":\"scatterternary\",\"marker\":{\"colorbar\":{\"outlinewidth\":0,\"ticks\":\"\"}}}],\"scattercarpet\":[{\"type\":\"scattercarpet\",\"marker\":{\"colorbar\":{\"outlinewidth\":0,\"ticks\":\"\"}}}],\"carpet\":[{\"aaxis\":{\"endlinecolor\":\"#2a3f5f\",\"gridcolor\":\"white\",\"linecolor\":\"white\",\"minorgridcolor\":\"white\",\"startlinecolor\":\"#2a3f5f\"},\"baxis\":{\"endlinecolor\":\"#2a3f5f\",\"gridcolor\":\"white\",\"linecolor\":\"white\",\"minorgridcolor\":\"white\",\"startlinecolor\":\"#2a3f5f\"},\"type\":\"carpet\"}],\"table\":[{\"cells\":{\"fill\":{\"color\":\"#EBF0F8\"},\"line\":{\"color\":\"white\"}},\"header\":{\"fill\":{\"color\":\"#C8D4E3\"},\"line\":{\"color\":\"white\"}},\"type\":\"table\"}],\"barpolar\":[{\"marker\":{\"line\":{\"color\":\"#E5ECF6\",\"width\":0.5},\"pattern\":{\"fillmode\":\"overlay\",\"size\":10,\"solidity\":0.2}},\"type\":\"barpolar\"}],\"pie\":[{\"automargin\":true,\"type\":\"pie\"}]},\"layout\":{\"autotypenumbers\":\"strict\",\"colorway\":[\"#636efa\",\"#EF553B\",\"#00cc96\",\"#ab63fa\",\"#FFA15A\",\"#19d3f3\",\"#FF6692\",\"#B6E880\",\"#FF97FF\",\"#FECB52\"],\"font\":{\"color\":\"#2a3f5f\"},\"hovermode\":\"closest\",\"hoverlabel\":{\"align\":\"left\"},\"paper_bgcolor\":\"white\",\"plot_bgcolor\":\"#E5ECF6\",\"polar\":{\"bgcolor\":\"#E5ECF6\",\"angularaxis\":{\"gridcolor\":\"white\",\"linecolor\":\"white\",\"ticks\":\"\"},\"radialaxis\":{\"gridcolor\":\"white\",\"linecolor\":\"white\",\"ticks\":\"\"}},\"ternary\":{\"bgcolor\":\"#E5ECF6\",\"aaxis\":{\"gridcolor\":\"white\",\"linecolor\":\"white\",\"ticks\":\"\"},\"baxis\":{\"gridcolor\":\"white\",\"linecolor\":\"white\",\"ticks\":\"\"},\"caxis\":{\"gridcolor\":\"white\",\"linecolor\":\"white\",\"ticks\":\"\"}},\"coloraxis\":{\"colorbar\":{\"outlinewidth\":0,\"ticks\":\"\"}},\"colorscale\":{\"sequential\":[[0.0,\"#0d0887\"],[0.1111111111111111,\"#46039f\"],[0.2222222222222222,\"#7201a8\"],[0.3333333333333333,\"#9c179e\"],[0.4444444444444444,\"#bd3786\"],[0.5555555555555556,\"#d8576b\"],[0.6666666666666666,\"#ed7953\"],[0.7777777777777778,\"#fb9f3a\"],[0.8888888888888888,\"#fdca26\"],[1.0,\"#f0f921\"]],\"sequentialminus\":[[0.0,\"#0d0887\"],[0.1111111111111111,\"#46039f\"],[0.2222222222222222,\"#7201a8\"],[0.3333333333333333,\"#9c179e\"],[0.4444444444444444,\"#bd3786\"],[0.5555555555555556,\"#d8576b\"],[0.6666666666666666,\"#ed7953\"],[0.7777777777777778,\"#fb9f3a\"],[0.8888888888888888,\"#fdca26\"],[1.0,\"#f0f921\"]],\"diverging\":[[0,\"#8e0152\"],[0.1,\"#c51b7d\"],[0.2,\"#de77ae\"],[0.3,\"#f1b6da\"],[0.4,\"#fde0ef\"],[0.5,\"#f7f7f7\"],[0.6,\"#e6f5d0\"],[0.7,\"#b8e186\"],[0.8,\"#7fbc41\"],[0.9,\"#4d9221\"],[1,\"#276419\"]]},\"xaxis\":{\"gridcolor\":\"white\",\"linecolor\":\"white\",\"ticks\":\"\",\"title\":{\"standoff\":15},\"zerolinecolor\":\"white\",\"automargin\":true,\"zerolinewidth\":2},\"yaxis\":{\"gridcolor\":\"white\",\"linecolor\":\"white\",\"ticks\":\"\",\"title\":{\"standoff\":15},\"zerolinecolor\":\"white\",\"automargin\":true,\"zerolinewidth\":2},\"scene\":{\"xaxis\":{\"backgroundcolor\":\"#E5ECF6\",\"gridcolor\":\"white\",\"linecolor\":\"white\",\"showbackground\":true,\"ticks\":\"\",\"zerolinecolor\":\"white\",\"gridwidth\":2},\"yaxis\":{\"backgroundcolor\":\"#E5ECF6\",\"gridcolor\":\"white\",\"linecolor\":\"white\",\"showbackground\":true,\"ticks\":\"\",\"zerolinecolor\":\"white\",\"gridwidth\":2},\"zaxis\":{\"backgroundcolor\":\"#E5ECF6\",\"gridcolor\":\"white\",\"linecolor\":\"white\",\"showbackground\":true,\"ticks\":\"\",\"zerolinecolor\":\"white\",\"gridwidth\":2}},\"shapedefaults\":{\"line\":{\"color\":\"#2a3f5f\"}},\"annotationdefaults\":{\"arrowcolor\":\"#2a3f5f\",\"arrowhead\":0,\"arrowwidth\":1},\"geo\":{\"bgcolor\":\"white\",\"landcolor\":\"#E5ECF6\",\"subunitcolor\":\"white\",\"showland\":true,\"showlakes\":true,\"lakecolor\":\"white\"},\"title\":{\"x\":0.05},\"mapbox\":{\"style\":\"light\"}}},\"xaxis\":{\"anchor\":\"y\",\"domain\":[0.0,1.0],\"title\":{\"text\":\"year\"}},\"yaxis\":{\"anchor\":\"x\",\"domain\":[0.0,1.0],\"title\":{\"text\":\"gdp\"}},\"legend\":{\"tracegroupgap\":0},\"margin\":{\"t\":60}},                        {\"responsive\": true}                    ).then(function(){\n",
       "                            \n",
       "var gd = document.getElementById('291d4bed-f533-49bd-99a9-b2323a718e22');\n",
       "var x = new MutationObserver(function (mutations, observer) {{\n",
       "        var display = window.getComputedStyle(gd).display;\n",
       "        if (!display || display === 'none') {{\n",
       "            console.log([gd, 'removed!']);\n",
       "            Plotly.purge(gd);\n",
       "            observer.disconnect();\n",
       "        }}\n",
       "}});\n",
       "\n",
       "// Listen for the removal of the full notebook cells\n",
       "var notebookContainer = gd.closest('#notebook-container');\n",
       "if (notebookContainer) {{\n",
       "    x.observe(notebookContainer, {childList: true});\n",
       "}}\n",
       "\n",
       "// Listen for the clearing of the current output cell\n",
       "var outputEl = gd.closest('.output');\n",
       "if (outputEl) {{\n",
       "    x.observe(outputEl, {childList: true});\n",
       "}}\n",
       "\n",
       "                        })                };                });            </script>        </div>"
      ]
     },
     "metadata": {},
     "output_type": "display_data"
    }
   ],
   "source": [
    "px.scatter(subset_Malaysia, x=\"year\", y=\"gdp\")"
   ]
  },
  {
   "cell_type": "code",
   "execution_count": 20,
   "id": "f667cce0",
   "metadata": {
    "execution": {
     "iopub.execute_input": "2024-09-25T15:46:52.844152Z",
     "iopub.status.busy": "2024-09-25T15:46:52.843390Z",
     "iopub.status.idle": "2024-09-25T15:46:53.156341Z",
     "shell.execute_reply": "2024-09-25T15:46:53.155173Z"
    },
    "papermill": {
     "duration": 0.329673,
     "end_time": "2024-09-25T15:46:53.159041",
     "exception": false,
     "start_time": "2024-09-25T15:46:52.829368",
     "status": "completed"
    },
    "tags": []
   },
   "outputs": [
    {
     "data": {
      "text/plain": [
       "<matplotlib.collections.PathCollection at 0x7c73e33796c0>"
      ]
     },
     "execution_count": 20,
     "metadata": {},
     "output_type": "execute_result"
    },
    {
     "data": {
      "image/png": "[encoded data removed]",
      "text/plain": [
       "<Figure size 640x480 with 1 Axes>"
      ]
     },
     "metadata": {},
     "output_type": "display_data"
    }
   ],
   "source": [
    "subset_China = df[df['country'].isin([\"China\"])]\n",
    "plt.scatter(subset_China['year'], subset_China['gdp'])"
   ]
  },
  {
   "cell_type": "code",
   "execution_count": 21,
   "id": "54d0bff9",
   "metadata": {
    "execution": {
     "iopub.execute_input": "2024-09-25T15:46:53.190083Z",
     "iopub.status.busy": "2024-09-25T15:46:53.189363Z",
     "iopub.status.idle": "2024-09-25T15:46:53.473732Z",
     "shell.execute_reply": "2024-09-25T15:46:53.472637Z"
    },
    "papermill": {
     "duration": 0.302043,
     "end_time": "2024-09-25T15:46:53.476197",
     "exception": false,
     "start_time": "2024-09-25T15:46:53.174154",
     "status": "completed"
    },
    "tags": []
   },
   "outputs": [
    {
     "data": {
      "text/plain": [
       "<matplotlib.collections.PathCollection at 0x7c73e34b2770>"
      ]
     },
     "execution_count": 21,
     "metadata": {},
     "output_type": "execute_result"
    },
    {
     "data": {
      "image/png": "[encoded data removed]",
      "text/plain": [
       "<Figure size 640x480 with 1 Axes>"
      ]
     },
     "metadata": {},
     "output_type": "display_data"
    }
   ],
   "source": [
    "subset_Indonesia = df[df['country'].isin([\"Indonesia\"])]\n",
    "plt.scatter(subset_Indonesia['year'], subset_Indonesia['gdp'])"
   ]
  },
  {
   "cell_type": "code",
   "execution_count": 22,
   "id": "0679b91e",
   "metadata": {
    "execution": {
     "iopub.execute_input": "2024-09-25T15:46:53.506160Z",
     "iopub.status.busy": "2024-09-25T15:46:53.505726Z",
     "iopub.status.idle": "2024-09-25T15:46:55.288468Z",
     "shell.execute_reply": "2024-09-25T15:46:55.287286Z"
    },
    "papermill": {
     "duration": 1.80063,
     "end_time": "2024-09-25T15:46:55.290961",
     "exception": false,
     "start_time": "2024-09-25T15:46:53.490331",
     "status": "completed"
    },
    "tags": []
   },
   "outputs": [
    {
     "data": {
      "text/plain": [
       "<BarContainer object of 175 artists>"
      ]
     },
     "execution_count": 22,
     "metadata": {},
     "output_type": "execute_result"
    },
    {
     "data": {
      "image/png": "[encoded data removed]",
      "text/plain": [
       "<Figure size 640x480 with 1 Axes>"
      ]
     },
     "metadata": {},
     "output_type": "display_data"
    }
   ],
   "source": [
    "plt.bar(subset_2020['country'], subset_2020['gdp'])"
   ]
  },
  {
   "cell_type": "code",
   "execution_count": 23,
   "id": "12802060",
   "metadata": {
    "execution": {
     "iopub.execute_input": "2024-09-25T15:46:55.322365Z",
     "iopub.status.busy": "2024-09-25T15:46:55.321941Z",
     "iopub.status.idle": "2024-09-25T15:46:55.411514Z",
     "shell.execute_reply": "2024-09-25T15:46:55.410463Z"
    },
    "papermill": {
     "duration": 0.10814,
     "end_time": "2024-09-25T15:46:55.413830",
     "exception": false,
     "start_time": "2024-09-25T15:46:55.305690",
     "status": "completed"
    },
    "tags": []
   },
   "outputs": [
    {
     "data": {
      "text/html": [
       "<div>                            <div id=\"47a48eff-674b-4cec-b628-4c81f8120ec1\" class=\"plotly-graph-div\" style=\"height:525px; width:100%;\"></div>            <script type=\"text/javascript\">                require([\"plotly\"], function(Plotly) {                    window.PLOTLYENV=window.PLOTLYENV || {};                                    if (document.getElementById(\"47a48eff-674b-4cec-b628-4c81f8120ec1\")) {                    Plotly.newPlot(                        \"47a48eff-674b-4cec-b628-4c81f8120ec1\",                        [{\"alignmentgroup\":\"True\",\"hovertemplate\":\"country=%{x}\\u003cbr\\u003egdp=%{y}\\u003cextra\\u003e\\u003c\\u002fextra\\u003e\",\"legendgroup\":\"\",\"marker\":{\"color\":\"#636efa\",\"pattern\":{\"shape\":\"\"}},\"name\":\"\",\"offsetgroup\":\"\",\"orientation\":\"v\",\"showlegend\":false,\"textposition\":\"auto\",\"x\":[\"the United States\",\"China\",\"Germany\",\"United Kingdom\",\"India\",\"France\",\"Italy\",\"Canada\",\"South Korea\",\"Russia\",\"Brazil\",\"Australia\",\"Spain\",\"Mexico\",\"Indonesia\",\"Netherlands\",\"Switzerland\",\"Turkey\",\"Saudi Arabia\",\"Poland\",\"Sweden\",\"Belgium\",\"Thailand\",\"Nigeria\",\"Austria\",\"Ireland\",\"Israel\",\"Argentina\",\"Egypt\",\"Norway\",\"Philippines\",\"Denmark\",\"Hong Kong\",\"Singapore\",\"Malaysia\",\"Bangladesh\",\"South Africa\",\"Columbia\",\"Finland\",\"Vietnam\",\"Pakistan\",\"Chile\",\"Romania\",\"Czech\",\"Portugal\",\"New Zealand\",\"Peru\",\"Iran\",\"Greece\",\"Kazakhstan\",\"Iraq\",\"Ukraine\",\"Hungary\",\"Qatar\",\"Algeria\",\"Morocco\",\"Ethiopia\",\"Slovakia\",\"Puerto Rico\",\"Kenya\",\"Ecuador\",\"Sri Lanka\",\"Dominica\",\"Guatemala\",\"Myanmar\",\"Luxembourg\",\"Garner\",\"Bulgaria\",\"Tanzania\",\"Angola\",\"Costa Rica\",\"C ô te d'Ivoire\",\"Belarus\",\"Uzbekistan\",\"Croatia\",\"Lithuania\",\"Uruguay\",\"Serbia\",\"Panama\",\"Slovenia\",\"Congo (gold)\",\"Jordan\",\"Azerbaijan\",\"Cameroon\",\"Tunisia\",\"Uganda\",\"Bolivia\",\"Paraguay\",\"Nepal\",\"Latvia\",\"Lebanon\",\"Estonia\",\"Sudan\",\"Libya\",\"Cambodia\",\"Senegal\",\"El Salvador\",\"Honduras\",\"Cyprus\",\"Papua New Guinea\",\"Iceland\",\"Trinidad and Tobago\",\"Afghanistan\",\"Bosnia and Herzegovina\",\"Zambia\",\"Laos\",\"Mali\",\"Burkina Faso\",\"Zimbabwe\",\"Georgia\",\"Botswana\",\"Guinea\",\"Benin\",\"Gabon\",\"Palestine\",\"Albania\",\"Malta\",\"Mozambique\",\"Jamaica\",\"Madagascar\",\"Niger\",\"Haiti\",\"Mongolia\",\"Armenia\",\"Nicaragua\",\"Macedonia\",\"Brunei\",\"Malawi\",\"Moldova\",\"Bahamas\",\"Mauritius\",\"Congo (Brazzaville)\",\"Namibia\",\"Rwanda\",\"Chad\",\"Equatorial Guinea\",\"Tajikistan\",\"Mauritania\",\"Kyrgyzstan\",\"Togo\",\"Guyana\",\"Somalia\",\"Montenegro\",\"Fiji Islands\",\"Barbados\",\"Maldives\",\"Eswatini\",\"Sierra Leone\",\"Suriname\",\"Djibouti\",\"Burundi\",\"Liberia\",\"Bhutan\",\"Central Africa\",\"Gambia\",\"Lesotho\",\"Timor Leste\",\"Belize\",\"Cape Verde\",\"Saint Lucia\",\"Solomon Islands\",\"Guinea Bissau\",\"Antigua and Barbuda\",\"Comoros\",\"Seychelles\",\"Grenada\",\"Saint Kitts and Nevis\",\"Turks and Caicos Islands\",\"Vanuatu\",\"Saint Vincent and the Grenadines\",\"Samoa\",\"Sao Tome and Principe.\",\"Dominica\",\"Kiribati\",\"Tuvalu\"],\"xaxis\":\"x\",\"y\":[20936600000000,14722730697890,3806060140124,2707743777173,2622983732006,2603004395901,1886445268340,1643407977068,1630525005469,1483497784867,1444733258971,1330900925056,1281199091016,1076163316174,1058423838345,912242335119,747968636174,720101212394,700117873249,594164690894,537609865719,515332499627,501794961925,432293776262,428965397959,418621818482,401953804837,383066977653,363069245165,362008956544,361489354350,355184024841,346585881503,339998477929,336664444247,324239176765,301923639269,271346896626,271233883403,271158442059,263686552686,252940023046,248715551366,243530379896,231255587276,212482013605,202014363787,191718271483,189410106620,169835426427,167224432560,155582008717,155012927629,146373588866,145163902228,112870591694,107645054311,104574146248,103138300000,98842939649,98808010000,80706600228,78844702329,77604632170,76185586096,73263982103,72354428864,69105101089,62409748426,62306913444,61520669890,61348579465,60258239055,57707189945,55966581780,55887271833,53628827440,52960134078,52938100000,52880473699,49868970641,43697659275,42607176470,39802147568,39235672868,37372032557,36688861202,35304238230,33657175561,33505185228,33383246857,31029968591,26110829190,25418461532,25291251427,24910904235,24638720000,23827840809,23804340376,23591523025,21714670569,21529824769,19807067268,19788422248,19320053859,19136194848,17393761397,17369059295,16768513442,15891688903,15781732825,15681050917,15651545208,15593181270,15561300000,14799615097,14647384607,14021421105,13812421803,13720634105,13678234008,13417997065,13137128659,12645459213,12621476263,12266949805,12016056665,11961848552,11914040905,11250000000,10914065306,10884686142,10699926682,10333991891,10093118570,10021856754,8194150301,7778525642,7735976612,7574635241,5471256594,4917607582,4778582336,4376014755,4365500000,4030203166,3962493092,3865018882,3807922874,3384404260,3258187232,2950000000,2409262838,2303078337,1901930157,1844510137,1821000000,1763696118,1703698676,1703364240,1551245525,1431758242,1415059259,1219690024,1124937500,1089203703,927451851,924583000,854793640,809681481,807027244,472914469,469870370,199573325,48855550],\"yaxis\":\"y\",\"type\":\"bar\"}],                        {\"template\":{\"data\":{\"histogram2dcontour\":[{\"type\":\"histogram2dcontour\",\"colorbar\":{\"outlinewidth\":0,\"ticks\":\"\"},\"colorscale\":[[0.0,\"#0d0887\"],[0.1111111111111111,\"#46039f\"],[0.2222222222222222,\"#7201a8\"],[0.3333333333333333,\"#9c179e\"],[0.4444444444444444,\"#bd3786\"],[0.5555555555555556,\"#d8576b\"],[0.6666666666666666,\"#ed7953\"],[0.7777777777777778,\"#fb9f3a\"],[0.8888888888888888,\"#fdca26\"],[1.0,\"#f0f921\"]]}],\"choropleth\":[{\"type\":\"choropleth\",\"colorbar\":{\"outlinewidth\":0,\"ticks\":\"\"}}],\"histogram2d\":[{\"type\":\"histogram2d\",\"colorbar\":{\"outlinewidth\":0,\"ticks\":\"\"},\"colorscale\":[[0.0,\"#0d0887\"],[0.1111111111111111,\"#46039f\"],[0.2222222222222222,\"#7201a8\"],[0.3333333333333333,\"#9c179e\"],[0.4444444444444444,\"#bd3786\"],[0.5555555555555556,\"#d8576b\"],[0.6666666666666666,\"#ed7953\"],[0.7777777777777778,\"#fb9f3a\"],[0.8888888888888888,\"#fdca26\"],[1.0,\"#f0f921\"]]}],\"heatmap\":[{\"type\":\"heatmap\",\"colorbar\":{\"outlinewidth\":0,\"ticks\":\"\"},\"colorscale\":[[0.0,\"#0d0887\"],[0.1111111111111111,\"#46039f\"],[0.2222222222222222,\"#7201a8\"],[0.3333333333333333,\"#9c179e\"],[0.4444444444444444,\"#bd3786\"],[0.5555555555555556,\"#d8576b\"],[0.6666666666666666,\"#ed7953\"],[0.7777777777777778,\"#fb9f3a\"],[0.8888888888888888,\"#fdca26\"],[1.0,\"#f0f921\"]]}],\"heatmapgl\":[{\"type\":\"heatmapgl\",\"colorbar\":{\"outlinewidth\":0,\"ticks\":\"\"},\"colorscale\":[[0.0,\"#0d0887\"],[0.1111111111111111,\"#46039f\"],[0.2222222222222222,\"#7201a8\"],[0.3333333333333333,\"#9c179e\"],[0.4444444444444444,\"#bd3786\"],[0.5555555555555556,\"#d8576b\"],[0.6666666666666666,\"#ed7953\"],[0.7777777777777778,\"#fb9f3a\"],[0.8888888888888888,\"#fdca26\"],[1.0,\"#f0f921\"]]}],\"contourcarpet\":[{\"type\":\"contourcarpet\",\"colorbar\":{\"outlinewidth\":0,\"ticks\":\"\"}}],\"contour\":[{\"type\":\"contour\",\"colorbar\":{\"outlinewidth\":0,\"ticks\":\"\"},\"colorscale\":[[0.0,\"#0d0887\"],[0.1111111111111111,\"#46039f\"],[0.2222222222222222,\"#7201a8\"],[0.3333333333333333,\"#9c179e\"],[0.4444444444444444,\"#bd3786\"],[0.5555555555555556,\"#d8576b\"],[0.6666666666666666,\"#ed7953\"],[0.7777777777777778,\"#fb9f3a\"],[0.8888888888888888,\"#fdca26\"],[1.0,\"#f0f921\"]]}],\"surface\":[{\"type\":\"surface\",\"colorbar\":{\"outlinewidth\":0,\"ticks\":\"\"},\"colorscale\":[[0.0,\"#0d0887\"],[0.1111111111111111,\"#46039f\"],[0.2222222222222222,\"#7201a8\"],[0.3333333333333333,\"#9c179e\"],[0.4444444444444444,\"#bd3786\"],[0.5555555555555556,\"#d8576b\"],[0.6666666666666666,\"#ed7953\"],[0.7777777777777778,\"#fb9f3a\"],[0.8888888888888888,\"#fdca26\"],[1.0,\"#f0f921\"]]}],\"mesh3d\":[{\"type\":\"mesh3d\",\"colorbar\":{\"outlinewidth\":0,\"ticks\":\"\"}}],\"scatter\":[{\"fillpattern\":{\"fillmode\":\"overlay\",\"size\":10,\"solidity\":0.2},\"type\":\"scatter\"}],\"parcoords\":[{\"type\":\"parcoords\",\"line\":{\"colorbar\":{\"outlinewidth\":0,\"ticks\":\"\"}}}],\"scatterpolargl\":[{\"type\":\"scatterpolargl\",\"marker\":{\"colorbar\":{\"outlinewidth\":0,\"ticks\":\"\"}}}],\"bar\":[{\"error_x\":{\"color\":\"#2a3f5f\"},\"error_y\":{\"color\":\"#2a3f5f\"},\"marker\":{\"line\":{\"color\":\"#E5ECF6\",\"width\":0.5},\"pattern\":{\"fillmode\":\"overlay\",\"size\":10,\"solidity\":0.2}},\"type\":\"bar\"}],\"scattergeo\":[{\"type\":\"scattergeo\",\"marker\":{\"colorbar\":{\"outlinewidth\":0,\"ticks\":\"\"}}}],\"scatterpolar\":[{\"type\":\"scatterpolar\",\"marker\":{\"colorbar\":{\"outlinewidth\":0,\"ticks\":\"\"}}}],\"histogram\":[{\"marker\":{\"pattern\":{\"fillmode\":\"overlay\",\"size\":10,\"solidity\":0.2}},\"type\":\"histogram\"}],\"scattergl\":[{\"type\":\"scattergl\",\"marker\":{\"colorbar\":{\"outlinewidth\":0,\"ticks\":\"\"}}}],\"scatter3d\":[{\"type\":\"scatter3d\",\"line\":{\"colorbar\":{\"outlinewidth\":0,\"ticks\":\"\"}},\"marker\":{\"colorbar\":{\"outlinewidth\":0,\"ticks\":\"\"}}}],\"scattermapbox\":[{\"type\":\"scattermapbox\",\"marker\":{\"colorbar\":{\"outlinewidth\":0,\"ticks\":\"\"}}}],\"scatterternary\":[{\"type\":\"scatterternary\",\"marker\":{\"colorbar\":{\"outlinewidth\":0,\"ticks\":\"\"}}}],\"scattercarpet\":[{\"type\":\"scattercarpet\",\"marker\":{\"colorbar\":{\"outlinewidth\":0,\"ticks\":\"\"}}}],\"carpet\":[{\"aaxis\":{\"endlinecolor\":\"#2a3f5f\",\"gridcolor\":\"white\",\"linecolor\":\"white\",\"minorgridcolor\":\"white\",\"startlinecolor\":\"#2a3f5f\"},\"baxis\":{\"endlinecolor\":\"#2a3f5f\",\"gridcolor\":\"white\",\"linecolor\":\"white\",\"minorgridcolor\":\"white\",\"startlinecolor\":\"#2a3f5f\"},\"type\":\"carpet\"}],\"table\":[{\"cells\":{\"fill\":{\"color\":\"#EBF0F8\"},\"line\":{\"color\":\"white\"}},\"header\":{\"fill\":{\"color\":\"#C8D4E3\"},\"line\":{\"color\":\"white\"}},\"type\":\"table\"}],\"barpolar\":[{\"marker\":{\"line\":{\"color\":\"#E5ECF6\",\"width\":0.5},\"pattern\":{\"fillmode\":\"overlay\",\"size\":10,\"solidity\":0.2}},\"type\":\"barpolar\"}],\"pie\":[{\"automargin\":true,\"type\":\"pie\"}]},\"layout\":{\"autotypenumbers\":\"strict\",\"colorway\":[\"#636efa\",\"#EF553B\",\"#00cc96\",\"#ab63fa\",\"#FFA15A\",\"#19d3f3\",\"#FF6692\",\"#B6E880\",\"#FF97FF\",\"#FECB52\"],\"font\":{\"color\":\"#2a3f5f\"},\"hovermode\":\"closest\",\"hoverlabel\":{\"align\":\"left\"},\"paper_bgcolor\":\"white\",\"plot_bgcolor\":\"#E5ECF6\",\"polar\":{\"bgcolor\":\"#E5ECF6\",\"angularaxis\":{\"gridcolor\":\"white\",\"linecolor\":\"white\",\"ticks\":\"\"},\"radialaxis\":{\"gridcolor\":\"white\",\"linecolor\":\"white\",\"ticks\":\"\"}},\"ternary\":{\"bgcolor\":\"#E5ECF6\",\"aaxis\":{\"gridcolor\":\"white\",\"linecolor\":\"white\",\"ticks\":\"\"},\"baxis\":{\"gridcolor\":\"white\",\"linecolor\":\"white\",\"ticks\":\"\"},\"caxis\":{\"gridcolor\":\"white\",\"linecolor\":\"white\",\"ticks\":\"\"}},\"coloraxis\":{\"colorbar\":{\"outlinewidth\":0,\"ticks\":\"\"}},\"colorscale\":{\"sequential\":[[0.0,\"#0d0887\"],[0.1111111111111111,\"#46039f\"],[0.2222222222222222,\"#7201a8\"],[0.3333333333333333,\"#9c179e\"],[0.4444444444444444,\"#bd3786\"],[0.5555555555555556,\"#d8576b\"],[0.6666666666666666,\"#ed7953\"],[0.7777777777777778,\"#fb9f3a\"],[0.8888888888888888,\"#fdca26\"],[1.0,\"#f0f921\"]],\"sequentialminus\":[[0.0,\"#0d0887\"],[0.1111111111111111,\"#46039f\"],[0.2222222222222222,\"#7201a8\"],[0.3333333333333333,\"#9c179e\"],[0.4444444444444444,\"#bd3786\"],[0.5555555555555556,\"#d8576b\"],[0.6666666666666666,\"#ed7953\"],[0.7777777777777778,\"#fb9f3a\"],[0.8888888888888888,\"#fdca26\"],[1.0,\"#f0f921\"]],\"diverging\":[[0,\"#8e0152\"],[0.1,\"#c51b7d\"],[0.2,\"#de77ae\"],[0.3,\"#f1b6da\"],[0.4,\"#fde0ef\"],[0.5,\"#f7f7f7\"],[0.6,\"#e6f5d0\"],[0.7,\"#b8e186\"],[0.8,\"#7fbc41\"],[0.9,\"#4d9221\"],[1,\"#276419\"]]},\"xaxis\":{\"gridcolor\":\"white\",\"linecolor\":\"white\",\"ticks\":\"\",\"title\":{\"standoff\":15},\"zerolinecolor\":\"white\",\"automargin\":true,\"zerolinewidth\":2},\"yaxis\":{\"gridcolor\":\"white\",\"linecolor\":\"white\",\"ticks\":\"\",\"title\":{\"standoff\":15},\"zerolinecolor\":\"white\",\"automargin\":true,\"zerolinewidth\":2},\"scene\":{\"xaxis\":{\"backgroundcolor\":\"#E5ECF6\",\"gridcolor\":\"white\",\"linecolor\":\"white\",\"showbackground\":true,\"ticks\":\"\",\"zerolinecolor\":\"white\",\"gridwidth\":2},\"yaxis\":{\"backgroundcolor\":\"#E5ECF6\",\"gridcolor\":\"white\",\"linecolor\":\"white\",\"showbackground\":true,\"ticks\":\"\",\"zerolinecolor\":\"white\",\"gridwidth\":2},\"zaxis\":{\"backgroundcolor\":\"#E5ECF6\",\"gridcolor\":\"white\",\"linecolor\":\"white\",\"showbackground\":true,\"ticks\":\"\",\"zerolinecolor\":\"white\",\"gridwidth\":2}},\"shapedefaults\":{\"line\":{\"color\":\"#2a3f5f\"}},\"annotationdefaults\":{\"arrowcolor\":\"#2a3f5f\",\"arrowhead\":0,\"arrowwidth\":1},\"geo\":{\"bgcolor\":\"white\",\"landcolor\":\"#E5ECF6\",\"subunitcolor\":\"white\",\"showland\":true,\"showlakes\":true,\"lakecolor\":\"white\"},\"title\":{\"x\":0.05},\"mapbox\":{\"style\":\"light\"}}},\"xaxis\":{\"anchor\":\"y\",\"domain\":[0.0,1.0],\"title\":{\"text\":\"country\"}},\"yaxis\":{\"anchor\":\"x\",\"domain\":[0.0,1.0],\"title\":{\"text\":\"gdp\"}},\"legend\":{\"tracegroupgap\":0},\"margin\":{\"t\":60},\"barmode\":\"relative\"},                        {\"responsive\": true}                    ).then(function(){\n",
       "                            \n",
       "var gd = document.getElementById('47a48eff-674b-4cec-b628-4c81f8120ec1');\n",
       "var x = new MutationObserver(function (mutations, observer) {{\n",
       "        var display = window.getComputedStyle(gd).display;\n",
       "        if (!display || display === 'none') {{\n",
       "            console.log([gd, 'removed!']);\n",
       "            Plotly.purge(gd);\n",
       "            observer.disconnect();\n",
       "        }}\n",
       "}});\n",
       "\n",
       "// Listen for the removal of the full notebook cells\n",
       "var notebookContainer = gd.closest('#notebook-container');\n",
       "if (notebookContainer) {{\n",
       "    x.observe(notebookContainer, {childList: true});\n",
       "}}\n",
       "\n",
       "// Listen for the clearing of the current output cell\n",
       "var outputEl = gd.closest('.output');\n",
       "if (outputEl) {{\n",
       "    x.observe(outputEl, {childList: true});\n",
       "}}\n",
       "\n",
       "                        })                };                });            </script>        </div>"
      ]
     },
     "metadata": {},
     "output_type": "display_data"
    }
   ],
   "source": [
    "px.bar(subset_2020, x=\"country\", y=\"gdp\")"
   ]
  },
  {
   "cell_type": "code",
   "execution_count": 24,
   "id": "e152b406",
   "metadata": {
    "execution": {
     "iopub.execute_input": "2024-09-25T15:46:55.446947Z",
     "iopub.status.busy": "2024-09-25T15:46:55.445827Z",
     "iopub.status.idle": "2024-09-25T15:46:55.641349Z",
     "shell.execute_reply": "2024-09-25T15:46:55.640206Z"
    },
    "papermill": {
     "duration": 0.214748,
     "end_time": "2024-09-25T15:46:55.643901",
     "exception": false,
     "start_time": "2024-09-25T15:46:55.429153",
     "status": "completed"
    },
    "tags": []
   },
   "outputs": [
    {
     "data": {
      "text/html": [
       "<div>                            <div id=\"09567f8b-00cc-44c8-8e19-ac6114ac37ea\" class=\"plotly-graph-div\" style=\"height:525px; width:100%;\"></div>            <script type=\"text/javascript\">                require([\"plotly\"], function(Plotly) {                    window.PLOTLYENV=window.PLOTLYENV || {};                                    if (document.getElementById(\"09567f8b-00cc-44c8-8e19-ac6114ac37ea\")) {                    Plotly.newPlot(                        \"09567f8b-00cc-44c8-8e19-ac6114ac37ea\",                        [{\"alignmentgroup\":\"True\",\"hovertemplate\":\"country=%{x}\\u003cbr\\u003egdp=%{y}\\u003cextra\\u003e\\u003c\\u002fextra\\u003e\",\"legendgroup\":\"\",\"marker\":{\"color\":\"#636efa\",\"pattern\":{\"shape\":\"\"}},\"name\":\"\",\"offsetgroup\":\"\",\"orientation\":\"v\",\"showlegend\":false,\"textposition\":\"auto\",\"x\":[\"the United States\",\"China\",\"Germany\",\"United Kingdom\",\"India\",\"France\",\"Italy\",\"Canada\",\"South Korea\",\"Russia\",\"Brazil\",\"Australia\",\"Spain\",\"Mexico\",\"Indonesia\",\"Netherlands\",\"Switzerland\",\"Turkey\",\"Saudi Arabia\",\"Poland\",\"Sweden\",\"Belgium\",\"Thailand\",\"Nigeria\",\"Austria\",\"Ireland\",\"Israel\",\"Argentina\",\"Egypt\",\"Norway\",\"Philippines\",\"Denmark\",\"Hong Kong\",\"Singapore\",\"Malaysia\",\"Bangladesh\",\"South Africa\",\"Columbia\",\"Finland\",\"Vietnam\",\"Pakistan\",\"Chile\",\"Romania\",\"Czech\",\"Portugal\",\"New Zealand\",\"Peru\",\"Iran\",\"Greece\",\"Kazakhstan\",\"Iraq\",\"Ukraine\",\"Hungary\",\"Qatar\",\"Algeria\",\"Morocco\",\"Ethiopia\",\"Slovakia\",\"Puerto Rico\",\"Kenya\",\"Ecuador\",\"Sri Lanka\",\"Dominica\",\"Guatemala\",\"Myanmar\",\"Luxembourg\",\"Garner\",\"Bulgaria\",\"Tanzania\",\"Angola\",\"Costa Rica\",\"C ô te d'Ivoire\",\"Belarus\",\"Uzbekistan\",\"Croatia\",\"Lithuania\",\"Uruguay\",\"Serbia\",\"Panama\",\"Slovenia\",\"Congo (gold)\",\"Jordan\",\"Azerbaijan\",\"Cameroon\",\"Tunisia\",\"Uganda\",\"Bolivia\",\"Paraguay\",\"Nepal\",\"Latvia\",\"Lebanon\",\"Estonia\",\"Sudan\",\"Libya\",\"Cambodia\",\"Senegal\",\"El Salvador\",\"Honduras\",\"Cyprus\",\"Papua New Guinea\",\"Iceland\",\"Trinidad and Tobago\",\"Afghanistan\",\"Bosnia and Herzegovina\",\"Zambia\",\"Laos\",\"Mali\",\"Burkina Faso\",\"Zimbabwe\",\"Georgia\",\"Botswana\",\"Guinea\",\"Benin\",\"Gabon\",\"Palestine\",\"Albania\",\"Malta\",\"Mozambique\",\"Jamaica\",\"Madagascar\",\"Niger\",\"Haiti\",\"Mongolia\",\"Armenia\",\"Nicaragua\",\"Macedonia\",\"Brunei\",\"Malawi\",\"Moldova\",\"Bahamas\",\"Mauritius\",\"Congo (Brazzaville)\",\"Namibia\",\"Rwanda\",\"Chad\",\"Equatorial Guinea\",\"Tajikistan\",\"Mauritania\",\"Kyrgyzstan\",\"Togo\",\"Guyana\",\"Somalia\",\"Montenegro\",\"Fiji Islands\",\"Barbados\",\"Maldives\",\"Eswatini\",\"Sierra Leone\",\"Suriname\",\"Djibouti\",\"Burundi\",\"Liberia\",\"Bhutan\",\"Central Africa\",\"Gambia\",\"Lesotho\",\"Timor Leste\",\"Belize\",\"Cape Verde\",\"Saint Lucia\",\"Solomon Islands\",\"Guinea Bissau\",\"Antigua and Barbuda\",\"Comoros\",\"Seychelles\",\"Grenada\",\"Saint Kitts and Nevis\",\"Turks and Caicos Islands\",\"Vanuatu\",\"Saint Vincent and the Grenadines\",\"Samoa\",\"Sao Tome and Principe.\",\"Dominica\",\"Kiribati\",\"Tuvalu\"],\"xaxis\":\"x\",\"y\":[20936600000000,14722730697890,3806060140124,2707743777173,2622983732006,2603004395901,1886445268340,1643407977068,1630525005469,1483497784867,1444733258971,1330900925056,1281199091016,1076163316174,1058423838345,912242335119,747968636174,720101212394,700117873249,594164690894,537609865719,515332499627,501794961925,432293776262,428965397959,418621818482,401953804837,383066977653,363069245165,362008956544,361489354350,355184024841,346585881503,339998477929,336664444247,324239176765,301923639269,271346896626,271233883403,271158442059,263686552686,252940023046,248715551366,243530379896,231255587276,212482013605,202014363787,191718271483,189410106620,169835426427,167224432560,155582008717,155012927629,146373588866,145163902228,112870591694,107645054311,104574146248,103138300000,98842939649,98808010000,80706600228,78844702329,77604632170,76185586096,73263982103,72354428864,69105101089,62409748426,62306913444,61520669890,61348579465,60258239055,57707189945,55966581780,55887271833,53628827440,52960134078,52938100000,52880473699,49868970641,43697659275,42607176470,39802147568,39235672868,37372032557,36688861202,35304238230,33657175561,33505185228,33383246857,31029968591,26110829190,25418461532,25291251427,24910904235,24638720000,23827840809,23804340376,23591523025,21714670569,21529824769,19807067268,19788422248,19320053859,19136194848,17393761397,17369059295,16768513442,15891688903,15781732825,15681050917,15651545208,15593181270,15561300000,14799615097,14647384607,14021421105,13812421803,13720634105,13678234008,13417997065,13137128659,12645459213,12621476263,12266949805,12016056665,11961848552,11914040905,11250000000,10914065306,10884686142,10699926682,10333991891,10093118570,10021856754,8194150301,7778525642,7735976612,7574635241,5471256594,4917607582,4778582336,4376014755,4365500000,4030203166,3962493092,3865018882,3807922874,3384404260,3258187232,2950000000,2409262838,2303078337,1901930157,1844510137,1821000000,1763696118,1703698676,1703364240,1551245525,1431758242,1415059259,1219690024,1124937500,1089203703,927451851,924583000,854793640,809681481,807027244,472914469,469870370,199573325,48855550],\"yaxis\":\"y\",\"type\":\"bar\"}],                        {\"template\":{\"data\":{\"histogram2dcontour\":[{\"type\":\"histogram2dcontour\",\"colorbar\":{\"outlinewidth\":0,\"ticks\":\"\"},\"colorscale\":[[0.0,\"#0d0887\"],[0.1111111111111111,\"#46039f\"],[0.2222222222222222,\"#7201a8\"],[0.3333333333333333,\"#9c179e\"],[0.4444444444444444,\"#bd3786\"],[0.5555555555555556,\"#d8576b\"],[0.6666666666666666,\"#ed7953\"],[0.7777777777777778,\"#fb9f3a\"],[0.8888888888888888,\"#fdca26\"],[1.0,\"#f0f921\"]]}],\"choropleth\":[{\"type\":\"choropleth\",\"colorbar\":{\"outlinewidth\":0,\"ticks\":\"\"}}],\"histogram2d\":[{\"type\":\"histogram2d\",\"colorbar\":{\"outlinewidth\":0,\"ticks\":\"\"},\"colorscale\":[[0.0,\"#0d0887\"],[0.1111111111111111,\"#46039f\"],[0.2222222222222222,\"#7201a8\"],[0.3333333333333333,\"#9c179e\"],[0.4444444444444444,\"#bd3786\"],[0.5555555555555556,\"#d8576b\"],[0.6666666666666666,\"#ed7953\"],[0.7777777777777778,\"#fb9f3a\"],[0.8888888888888888,\"#fdca26\"],[1.0,\"#f0f921\"]]}],\"heatmap\":[{\"type\":\"heatmap\",\"colorbar\":{\"outlinewidth\":0,\"ticks\":\"\"},\"colorscale\":[[0.0,\"#0d0887\"],[0.1111111111111111,\"#46039f\"],[0.2222222222222222,\"#7201a8\"],[0.3333333333333333,\"#9c179e\"],[0.4444444444444444,\"#bd3786\"],[0.5555555555555556,\"#d8576b\"],[0.6666666666666666,\"#ed7953\"],[0.7777777777777778,\"#fb9f3a\"],[0.8888888888888888,\"#fdca26\"],[1.0,\"#f0f921\"]]}],\"heatmapgl\":[{\"type\":\"heatmapgl\",\"colorbar\":{\"outlinewidth\":0,\"ticks\":\"\"},\"colorscale\":[[0.0,\"#0d0887\"],[0.1111111111111111,\"#46039f\"],[0.2222222222222222,\"#7201a8\"],[0.3333333333333333,\"#9c179e\"],[0.4444444444444444,\"#bd3786\"],[0.5555555555555556,\"#d8576b\"],[0.6666666666666666,\"#ed7953\"],[0.7777777777777778,\"#fb9f3a\"],[0.8888888888888888,\"#fdca26\"],[1.0,\"#f0f921\"]]}],\"contourcarpet\":[{\"type\":\"contourcarpet\",\"colorbar\":{\"outlinewidth\":0,\"ticks\":\"\"}}],\"contour\":[{\"type\":\"contour\",\"colorbar\":{\"outlinewidth\":0,\"ticks\":\"\"},\"colorscale\":[[0.0,\"#0d0887\"],[0.1111111111111111,\"#46039f\"],[0.2222222222222222,\"#7201a8\"],[0.3333333333333333,\"#9c179e\"],[0.4444444444444444,\"#bd3786\"],[0.5555555555555556,\"#d8576b\"],[0.6666666666666666,\"#ed7953\"],[0.7777777777777778,\"#fb9f3a\"],[0.8888888888888888,\"#fdca26\"],[1.0,\"#f0f921\"]]}],\"surface\":[{\"type\":\"surface\",\"colorbar\":{\"outlinewidth\":0,\"ticks\":\"\"},\"colorscale\":[[0.0,\"#0d0887\"],[0.1111111111111111,\"#46039f\"],[0.2222222222222222,\"#7201a8\"],[0.3333333333333333,\"#9c179e\"],[0.4444444444444444,\"#bd3786\"],[0.5555555555555556,\"#d8576b\"],[0.6666666666666666,\"#ed7953\"],[0.7777777777777778,\"#fb9f3a\"],[0.8888888888888888,\"#fdca26\"],[1.0,\"#f0f921\"]]}],\"mesh3d\":[{\"type\":\"mesh3d\",\"colorbar\":{\"outlinewidth\":0,\"ticks\":\"\"}}],\"scatter\":[{\"fillpattern\":{\"fillmode\":\"overlay\",\"size\":10,\"solidity\":0.2},\"type\":\"scatter\"}],\"parcoords\":[{\"type\":\"parcoords\",\"line\":{\"colorbar\":{\"outlinewidth\":0,\"ticks\":\"\"}}}],\"scatterpolargl\":[{\"type\":\"scatterpolargl\",\"marker\":{\"colorbar\":{\"outlinewidth\":0,\"ticks\":\"\"}}}],\"bar\":[{\"error_x\":{\"color\":\"#2a3f5f\"},\"error_y\":{\"color\":\"#2a3f5f\"},\"marker\":{\"line\":{\"color\":\"#E5ECF6\",\"width\":0.5},\"pattern\":{\"fillmode\":\"overlay\",\"size\":10,\"solidity\":0.2}},\"type\":\"bar\"}],\"scattergeo\":[{\"type\":\"scattergeo\",\"marker\":{\"colorbar\":{\"outlinewidth\":0,\"ticks\":\"\"}}}],\"scatterpolar\":[{\"type\":\"scatterpolar\",\"marker\":{\"colorbar\":{\"outlinewidth\":0,\"ticks\":\"\"}}}],\"histogram\":[{\"marker\":{\"pattern\":{\"fillmode\":\"overlay\",\"size\":10,\"solidity\":0.2}},\"type\":\"histogram\"}],\"scattergl\":[{\"type\":\"scattergl\",\"marker\":{\"colorbar\":{\"outlinewidth\":0,\"ticks\":\"\"}}}],\"scatter3d\":[{\"type\":\"scatter3d\",\"line\":{\"colorbar\":{\"outlinewidth\":0,\"ticks\":\"\"}},\"marker\":{\"colorbar\":{\"outlinewidth\":0,\"ticks\":\"\"}}}],\"scattermapbox\":[{\"type\":\"scattermapbox\",\"marker\":{\"colorbar\":{\"outlinewidth\":0,\"ticks\":\"\"}}}],\"scatterternary\":[{\"type\":\"scatterternary\",\"marker\":{\"colorbar\":{\"outlinewidth\":0,\"ticks\":\"\"}}}],\"scattercarpet\":[{\"type\":\"scattercarpet\",\"marker\":{\"colorbar\":{\"outlinewidth\":0,\"ticks\":\"\"}}}],\"carpet\":[{\"aaxis\":{\"endlinecolor\":\"#2a3f5f\",\"gridcolor\":\"white\",\"linecolor\":\"white\",\"minorgridcolor\":\"white\",\"startlinecolor\":\"#2a3f5f\"},\"baxis\":{\"endlinecolor\":\"#2a3f5f\",\"gridcolor\":\"white\",\"linecolor\":\"white\",\"minorgridcolor\":\"white\",\"startlinecolor\":\"#2a3f5f\"},\"type\":\"carpet\"}],\"table\":[{\"cells\":{\"fill\":{\"color\":\"#EBF0F8\"},\"line\":{\"color\":\"white\"}},\"header\":{\"fill\":{\"color\":\"#C8D4E3\"},\"line\":{\"color\":\"white\"}},\"type\":\"table\"}],\"barpolar\":[{\"marker\":{\"line\":{\"color\":\"#E5ECF6\",\"width\":0.5},\"pattern\":{\"fillmode\":\"overlay\",\"size\":10,\"solidity\":0.2}},\"type\":\"barpolar\"}],\"pie\":[{\"automargin\":true,\"type\":\"pie\"}]},\"layout\":{\"autotypenumbers\":\"strict\",\"colorway\":[\"#636efa\",\"#EF553B\",\"#00cc96\",\"#ab63fa\",\"#FFA15A\",\"#19d3f3\",\"#FF6692\",\"#B6E880\",\"#FF97FF\",\"#FECB52\"],\"font\":{\"color\":\"#2a3f5f\"},\"hovermode\":\"closest\",\"hoverlabel\":{\"align\":\"left\"},\"paper_bgcolor\":\"white\",\"plot_bgcolor\":\"#E5ECF6\",\"polar\":{\"bgcolor\":\"#E5ECF6\",\"angularaxis\":{\"gridcolor\":\"white\",\"linecolor\":\"white\",\"ticks\":\"\"},\"radialaxis\":{\"gridcolor\":\"white\",\"linecolor\":\"white\",\"ticks\":\"\"}},\"ternary\":{\"bgcolor\":\"#E5ECF6\",\"aaxis\":{\"gridcolor\":\"white\",\"linecolor\":\"white\",\"ticks\":\"\"},\"baxis\":{\"gridcolor\":\"white\",\"linecolor\":\"white\",\"ticks\":\"\"},\"caxis\":{\"gridcolor\":\"white\",\"linecolor\":\"white\",\"ticks\":\"\"}},\"coloraxis\":{\"colorbar\":{\"outlinewidth\":0,\"ticks\":\"\"}},\"colorscale\":{\"sequential\":[[0.0,\"#0d0887\"],[0.1111111111111111,\"#46039f\"],[0.2222222222222222,\"#7201a8\"],[0.3333333333333333,\"#9c179e\"],[0.4444444444444444,\"#bd3786\"],[0.5555555555555556,\"#d8576b\"],[0.6666666666666666,\"#ed7953\"],[0.7777777777777778,\"#fb9f3a\"],[0.8888888888888888,\"#fdca26\"],[1.0,\"#f0f921\"]],\"sequentialminus\":[[0.0,\"#0d0887\"],[0.1111111111111111,\"#46039f\"],[0.2222222222222222,\"#7201a8\"],[0.3333333333333333,\"#9c179e\"],[0.4444444444444444,\"#bd3786\"],[0.5555555555555556,\"#d8576b\"],[0.6666666666666666,\"#ed7953\"],[0.7777777777777778,\"#fb9f3a\"],[0.8888888888888888,\"#fdca26\"],[1.0,\"#f0f921\"]],\"diverging\":[[0,\"#8e0152\"],[0.1,\"#c51b7d\"],[0.2,\"#de77ae\"],[0.3,\"#f1b6da\"],[0.4,\"#fde0ef\"],[0.5,\"#f7f7f7\"],[0.6,\"#e6f5d0\"],[0.7,\"#b8e186\"],[0.8,\"#7fbc41\"],[0.9,\"#4d9221\"],[1,\"#276419\"]]},\"xaxis\":{\"gridcolor\":\"white\",\"linecolor\":\"white\",\"ticks\":\"\",\"title\":{\"standoff\":15},\"zerolinecolor\":\"white\",\"automargin\":true,\"zerolinewidth\":2},\"yaxis\":{\"gridcolor\":\"white\",\"linecolor\":\"white\",\"ticks\":\"\",\"title\":{\"standoff\":15},\"zerolinecolor\":\"white\",\"automargin\":true,\"zerolinewidth\":2},\"scene\":{\"xaxis\":{\"backgroundcolor\":\"#E5ECF6\",\"gridcolor\":\"white\",\"linecolor\":\"white\",\"showbackground\":true,\"ticks\":\"\",\"zerolinecolor\":\"white\",\"gridwidth\":2},\"yaxis\":{\"backgroundcolor\":\"#E5ECF6\",\"gridcolor\":\"white\",\"linecolor\":\"white\",\"showbackground\":true,\"ticks\":\"\",\"zerolinecolor\":\"white\",\"gridwidth\":2},\"zaxis\":{\"backgroundcolor\":\"#E5ECF6\",\"gridcolor\":\"white\",\"linecolor\":\"white\",\"showbackground\":true,\"ticks\":\"\",\"zerolinecolor\":\"white\",\"gridwidth\":2}},\"shapedefaults\":{\"line\":{\"color\":\"#2a3f5f\"}},\"annotationdefaults\":{\"arrowcolor\":\"#2a3f5f\",\"arrowhead\":0,\"arrowwidth\":1},\"geo\":{\"bgcolor\":\"white\",\"landcolor\":\"#E5ECF6\",\"subunitcolor\":\"white\",\"showland\":true,\"showlakes\":true,\"lakecolor\":\"white\"},\"title\":{\"x\":0.05},\"mapbox\":{\"style\":\"light\"}}},\"xaxis\":{\"anchor\":\"y\",\"domain\":[0.0,1.0],\"title\":{\"text\":\"country\"}},\"yaxis\":{\"anchor\":\"x\",\"domain\":[0.0,1.0],\"title\":{\"text\":\"gdp\"}},\"legend\":{\"tracegroupgap\":0},\"margin\":{\"t\":60},\"barmode\":\"relative\"},                        {\"responsive\": true}                    ).then(function(){\n",
       "                            \n",
       "var gd = document.getElementById('09567f8b-00cc-44c8-8e19-ac6114ac37ea');\n",
       "var x = new MutationObserver(function (mutations, observer) {{\n",
       "        var display = window.getComputedStyle(gd).display;\n",
       "        if (!display || display === 'none') {{\n",
       "            console.log([gd, 'removed!']);\n",
       "            Plotly.purge(gd);\n",
       "            observer.disconnect();\n",
       "        }}\n",
       "}});\n",
       "\n",
       "// Listen for the removal of the full notebook cells\n",
       "var notebookContainer = gd.closest('#notebook-container');\n",
       "if (notebookContainer) {{\n",
       "    x.observe(notebookContainer, {childList: true});\n",
       "}}\n",
       "\n",
       "// Listen for the clearing of the current output cell\n",
       "var outputEl = gd.closest('.output');\n",
       "if (outputEl) {{\n",
       "    x.observe(outputEl, {childList: true});\n",
       "}}\n",
       "\n",
       "                        })                };                });            </script>        </div>"
      ]
     },
     "metadata": {},
     "output_type": "display_data"
    }
   ],
   "source": [
    "px.bar(subset_2020, x=\"country\", y=\"gdp\")"
   ]
  },
  {
   "cell_type": "code",
   "execution_count": 25,
   "id": "ad7d01d4",
   "metadata": {
    "execution": {
     "iopub.execute_input": "2024-09-25T15:46:55.676476Z",
     "iopub.status.busy": "2024-09-25T15:46:55.676060Z",
     "iopub.status.idle": "2024-09-25T15:46:55.748983Z",
     "shell.execute_reply": "2024-09-25T15:46:55.747852Z"
    },
    "papermill": {
     "duration": 0.091951,
     "end_time": "2024-09-25T15:46:55.751367",
     "exception": false,
     "start_time": "2024-09-25T15:46:55.659416",
     "status": "completed"
    },
    "tags": []
   },
   "outputs": [
    {
     "data": {
      "text/html": [
       "<div>                            <div id=\"73e5f312-d519-4cb3-8e81-75b78be57e8b\" class=\"plotly-graph-div\" style=\"height:525px; width:100%;\"></div>            <script type=\"text/javascript\">                require([\"plotly\"], function(Plotly) {                    window.PLOTLYENV=window.PLOTLYENV || {};                                    if (document.getElementById(\"73e5f312-d519-4cb3-8e81-75b78be57e8b\")) {                    Plotly.newPlot(                        \"73e5f312-d519-4cb3-8e81-75b78be57e8b\",                        [{\"alignmentgroup\":\"True\",\"hovertemplate\":\"country=%{x}\\u003cbr\\u003egdp=%{y}\\u003cextra\\u003e\\u003c\\u002fextra\\u003e\",\"legendgroup\":\"\",\"marker\":{\"color\":\"#636efa\",\"pattern\":{\"shape\":\"\"}},\"name\":\"\",\"offsetgroup\":\"\",\"orientation\":\"v\",\"showlegend\":false,\"textposition\":\"auto\",\"x\":[\"the United States\",\"China\",\"Germany\",\"United Kingdom\",\"India\",\"France\",\"Italy\",\"Canada\",\"South Korea\",\"Russia\",\"Brazil\",\"Australia\",\"Spain\",\"Mexico\",\"Indonesia\",\"Netherlands\",\"Switzerland\",\"Turkey\",\"Saudi Arabia\",\"Poland\",\"Sweden\",\"Belgium\",\"Thailand\",\"Nigeria\",\"Austria\",\"Ireland\",\"Israel\",\"Argentina\",\"Egypt\",\"Norway\",\"Philippines\",\"Denmark\",\"Hong Kong\",\"Singapore\",\"Malaysia\",\"Bangladesh\",\"South Africa\",\"Columbia\",\"Finland\",\"Vietnam\",\"Pakistan\",\"Chile\",\"Romania\",\"Czech\",\"Portugal\",\"New Zealand\",\"Peru\",\"Iran\",\"Greece\",\"Kazakhstan\",\"Iraq\",\"Ukraine\",\"Hungary\",\"Qatar\",\"Algeria\",\"Morocco\",\"Ethiopia\",\"Slovakia\",\"Puerto Rico\",\"Kenya\",\"Ecuador\",\"Sri Lanka\",\"Dominica\",\"Guatemala\",\"Myanmar\",\"Luxembourg\",\"Garner\",\"Bulgaria\",\"Tanzania\",\"Angola\",\"Costa Rica\",\"C ô te d'Ivoire\",\"Belarus\",\"Uzbekistan\",\"Croatia\",\"Lithuania\",\"Uruguay\",\"Serbia\",\"Panama\",\"Slovenia\",\"Congo (gold)\",\"Jordan\",\"Azerbaijan\",\"Cameroon\",\"Tunisia\",\"Uganda\",\"Bolivia\",\"Paraguay\",\"Nepal\",\"Latvia\",\"Lebanon\",\"Estonia\",\"Sudan\",\"Libya\",\"Cambodia\",\"Senegal\",\"El Salvador\",\"Honduras\",\"Cyprus\",\"Papua New Guinea\",\"Iceland\",\"Trinidad and Tobago\",\"Afghanistan\",\"Bosnia and Herzegovina\",\"Zambia\",\"Laos\",\"Mali\",\"Burkina Faso\",\"Zimbabwe\",\"Georgia\",\"Botswana\",\"Guinea\",\"Benin\",\"Gabon\",\"Palestine\",\"Albania\",\"Malta\",\"Mozambique\",\"Jamaica\",\"Madagascar\",\"Niger\",\"Haiti\",\"Mongolia\",\"Armenia\",\"Nicaragua\",\"Macedonia\",\"Brunei\",\"Malawi\",\"Moldova\",\"Bahamas\",\"Mauritius\",\"Congo (Brazzaville)\",\"Namibia\",\"Rwanda\",\"Chad\",\"Equatorial Guinea\",\"Tajikistan\",\"Mauritania\",\"Kyrgyzstan\",\"Togo\",\"Guyana\",\"Somalia\",\"Montenegro\",\"Fiji Islands\",\"Barbados\",\"Maldives\",\"Eswatini\",\"Sierra Leone\",\"Suriname\",\"Djibouti\",\"Burundi\",\"Liberia\",\"Bhutan\",\"Central Africa\",\"Gambia\",\"Lesotho\",\"Timor Leste\",\"Belize\",\"Cape Verde\",\"Saint Lucia\",\"Solomon Islands\",\"Guinea Bissau\",\"Antigua and Barbuda\",\"Comoros\",\"Seychelles\",\"Grenada\",\"Saint Kitts and Nevis\",\"Turks and Caicos Islands\",\"Vanuatu\",\"Saint Vincent and the Grenadines\",\"Samoa\",\"Sao Tome and Principe.\",\"Dominica\",\"Kiribati\",\"Tuvalu\"],\"xaxis\":\"x\",\"y\":[20936600000000,14722730697890,3806060140124,2707743777173,2622983732006,2603004395901,1886445268340,1643407977068,1630525005469,1483497784867,1444733258971,1330900925056,1281199091016,1076163316174,1058423838345,912242335119,747968636174,720101212394,700117873249,594164690894,537609865719,515332499627,501794961925,432293776262,428965397959,418621818482,401953804837,383066977653,363069245165,362008956544,361489354350,355184024841,346585881503,339998477929,336664444247,324239176765,301923639269,271346896626,271233883403,271158442059,263686552686,252940023046,248715551366,243530379896,231255587276,212482013605,202014363787,191718271483,189410106620,169835426427,167224432560,155582008717,155012927629,146373588866,145163902228,112870591694,107645054311,104574146248,103138300000,98842939649,98808010000,80706600228,78844702329,77604632170,76185586096,73263982103,72354428864,69105101089,62409748426,62306913444,61520669890,61348579465,60258239055,57707189945,55966581780,55887271833,53628827440,52960134078,52938100000,52880473699,49868970641,43697659275,42607176470,39802147568,39235672868,37372032557,36688861202,35304238230,33657175561,33505185228,33383246857,31029968591,26110829190,25418461532,25291251427,24910904235,24638720000,23827840809,23804340376,23591523025,21714670569,21529824769,19807067268,19788422248,19320053859,19136194848,17393761397,17369059295,16768513442,15891688903,15781732825,15681050917,15651545208,15593181270,15561300000,14799615097,14647384607,14021421105,13812421803,13720634105,13678234008,13417997065,13137128659,12645459213,12621476263,12266949805,12016056665,11961848552,11914040905,11250000000,10914065306,10884686142,10699926682,10333991891,10093118570,10021856754,8194150301,7778525642,7735976612,7574635241,5471256594,4917607582,4778582336,4376014755,4365500000,4030203166,3962493092,3865018882,3807922874,3384404260,3258187232,2950000000,2409262838,2303078337,1901930157,1844510137,1821000000,1763696118,1703698676,1703364240,1551245525,1431758242,1415059259,1219690024,1124937500,1089203703,927451851,924583000,854793640,809681481,807027244,472914469,469870370,199573325,48855550],\"yaxis\":\"y\",\"type\":\"bar\"}],                        {\"template\":{\"data\":{\"histogram2dcontour\":[{\"type\":\"histogram2dcontour\",\"colorbar\":{\"outlinewidth\":0,\"ticks\":\"\"},\"colorscale\":[[0.0,\"#0d0887\"],[0.1111111111111111,\"#46039f\"],[0.2222222222222222,\"#7201a8\"],[0.3333333333333333,\"#9c179e\"],[0.4444444444444444,\"#bd3786\"],[0.5555555555555556,\"#d8576b\"],[0.6666666666666666,\"#ed7953\"],[0.7777777777777778,\"#fb9f3a\"],[0.8888888888888888,\"#fdca26\"],[1.0,\"#f0f921\"]]}],\"choropleth\":[{\"type\":\"choropleth\",\"colorbar\":{\"outlinewidth\":0,\"ticks\":\"\"}}],\"histogram2d\":[{\"type\":\"histogram2d\",\"colorbar\":{\"outlinewidth\":0,\"ticks\":\"\"},\"colorscale\":[[0.0,\"#0d0887\"],[0.1111111111111111,\"#46039f\"],[0.2222222222222222,\"#7201a8\"],[0.3333333333333333,\"#9c179e\"],[0.4444444444444444,\"#bd3786\"],[0.5555555555555556,\"#d8576b\"],[0.6666666666666666,\"#ed7953\"],[0.7777777777777778,\"#fb9f3a\"],[0.8888888888888888,\"#fdca26\"],[1.0,\"#f0f921\"]]}],\"heatmap\":[{\"type\":\"heatmap\",\"colorbar\":{\"outlinewidth\":0,\"ticks\":\"\"},\"colorscale\":[[0.0,\"#0d0887\"],[0.1111111111111111,\"#46039f\"],[0.2222222222222222,\"#7201a8\"],[0.3333333333333333,\"#9c179e\"],[0.4444444444444444,\"#bd3786\"],[0.5555555555555556,\"#d8576b\"],[0.6666666666666666,\"#ed7953\"],[0.7777777777777778,\"#fb9f3a\"],[0.8888888888888888,\"#fdca26\"],[1.0,\"#f0f921\"]]}],\"heatmapgl\":[{\"type\":\"heatmapgl\",\"colorbar\":{\"outlinewidth\":0,\"ticks\":\"\"},\"colorscale\":[[0.0,\"#0d0887\"],[0.1111111111111111,\"#46039f\"],[0.2222222222222222,\"#7201a8\"],[0.3333333333333333,\"#9c179e\"],[0.4444444444444444,\"#bd3786\"],[0.5555555555555556,\"#d8576b\"],[0.6666666666666666,\"#ed7953\"],[0.7777777777777778,\"#fb9f3a\"],[0.8888888888888888,\"#fdca26\"],[1.0,\"#f0f921\"]]}],\"contourcarpet\":[{\"type\":\"contourcarpet\",\"colorbar\":{\"outlinewidth\":0,\"ticks\":\"\"}}],\"contour\":[{\"type\":\"contour\",\"colorbar\":{\"outlinewidth\":0,\"ticks\":\"\"},\"colorscale\":[[0.0,\"#0d0887\"],[0.1111111111111111,\"#46039f\"],[0.2222222222222222,\"#7201a8\"],[0.3333333333333333,\"#9c179e\"],[0.4444444444444444,\"#bd3786\"],[0.5555555555555556,\"#d8576b\"],[0.6666666666666666,\"#ed7953\"],[0.7777777777777778,\"#fb9f3a\"],[0.8888888888888888,\"#fdca26\"],[1.0,\"#f0f921\"]]}],\"surface\":[{\"type\":\"surface\",\"colorbar\":{\"outlinewidth\":0,\"ticks\":\"\"},\"colorscale\":[[0.0,\"#0d0887\"],[0.1111111111111111,\"#46039f\"],[0.2222222222222222,\"#7201a8\"],[0.3333333333333333,\"#9c179e\"],[0.4444444444444444,\"#bd3786\"],[0.5555555555555556,\"#d8576b\"],[0.6666666666666666,\"#ed7953\"],[0.7777777777777778,\"#fb9f3a\"],[0.8888888888888888,\"#fdca26\"],[1.0,\"#f0f921\"]]}],\"mesh3d\":[{\"type\":\"mesh3d\",\"colorbar\":{\"outlinewidth\":0,\"ticks\":\"\"}}],\"scatter\":[{\"fillpattern\":{\"fillmode\":\"overlay\",\"size\":10,\"solidity\":0.2},\"type\":\"scatter\"}],\"parcoords\":[{\"type\":\"parcoords\",\"line\":{\"colorbar\":{\"outlinewidth\":0,\"ticks\":\"\"}}}],\"scatterpolargl\":[{\"type\":\"scatterpolargl\",\"marker\":{\"colorbar\":{\"outlinewidth\":0,\"ticks\":\"\"}}}],\"bar\":[{\"error_x\":{\"color\":\"#2a3f5f\"},\"error_y\":{\"color\":\"#2a3f5f\"},\"marker\":{\"line\":{\"color\":\"#E5ECF6\",\"width\":0.5},\"pattern\":{\"fillmode\":\"overlay\",\"size\":10,\"solidity\":0.2}},\"type\":\"bar\"}],\"scattergeo\":[{\"type\":\"scattergeo\",\"marker\":{\"colorbar\":{\"outlinewidth\":0,\"ticks\":\"\"}}}],\"scatterpolar\":[{\"type\":\"scatterpolar\",\"marker\":{\"colorbar\":{\"outlinewidth\":0,\"ticks\":\"\"}}}],\"histogram\":[{\"marker\":{\"pattern\":{\"fillmode\":\"overlay\",\"size\":10,\"solidity\":0.2}},\"type\":\"histogram\"}],\"scattergl\":[{\"type\":\"scattergl\",\"marker\":{\"colorbar\":{\"outlinewidth\":0,\"ticks\":\"\"}}}],\"scatter3d\":[{\"type\":\"scatter3d\",\"line\":{\"colorbar\":{\"outlinewidth\":0,\"ticks\":\"\"}},\"marker\":{\"colorbar\":{\"outlinewidth\":0,\"ticks\":\"\"}}}],\"scattermapbox\":[{\"type\":\"scattermapbox\",\"marker\":{\"colorbar\":{\"outlinewidth\":0,\"ticks\":\"\"}}}],\"scatterternary\":[{\"type\":\"scatterternary\",\"marker\":{\"colorbar\":{\"outlinewidth\":0,\"ticks\":\"\"}}}],\"scattercarpet\":[{\"type\":\"scattercarpet\",\"marker\":{\"colorbar\":{\"outlinewidth\":0,\"ticks\":\"\"}}}],\"carpet\":[{\"aaxis\":{\"endlinecolor\":\"#2a3f5f\",\"gridcolor\":\"white\",\"linecolor\":\"white\",\"minorgridcolor\":\"white\",\"startlinecolor\":\"#2a3f5f\"},\"baxis\":{\"endlinecolor\":\"#2a3f5f\",\"gridcolor\":\"white\",\"linecolor\":\"white\",\"minorgridcolor\":\"white\",\"startlinecolor\":\"#2a3f5f\"},\"type\":\"carpet\"}],\"table\":[{\"cells\":{\"fill\":{\"color\":\"#EBF0F8\"},\"line\":{\"color\":\"white\"}},\"header\":{\"fill\":{\"color\":\"#C8D4E3\"},\"line\":{\"color\":\"white\"}},\"type\":\"table\"}],\"barpolar\":[{\"marker\":{\"line\":{\"color\":\"#E5ECF6\",\"width\":0.5},\"pattern\":{\"fillmode\":\"overlay\",\"size\":10,\"solidity\":0.2}},\"type\":\"barpolar\"}],\"pie\":[{\"automargin\":true,\"type\":\"pie\"}]},\"layout\":{\"autotypenumbers\":\"strict\",\"colorway\":[\"#636efa\",\"#EF553B\",\"#00cc96\",\"#ab63fa\",\"#FFA15A\",\"#19d3f3\",\"#FF6692\",\"#B6E880\",\"#FF97FF\",\"#FECB52\"],\"font\":{\"color\":\"#2a3f5f\"},\"hovermode\":\"closest\",\"hoverlabel\":{\"align\":\"left\"},\"paper_bgcolor\":\"white\",\"plot_bgcolor\":\"#E5ECF6\",\"polar\":{\"bgcolor\":\"#E5ECF6\",\"angularaxis\":{\"gridcolor\":\"white\",\"linecolor\":\"white\",\"ticks\":\"\"},\"radialaxis\":{\"gridcolor\":\"white\",\"linecolor\":\"white\",\"ticks\":\"\"}},\"ternary\":{\"bgcolor\":\"#E5ECF6\",\"aaxis\":{\"gridcolor\":\"white\",\"linecolor\":\"white\",\"ticks\":\"\"},\"baxis\":{\"gridcolor\":\"white\",\"linecolor\":\"white\",\"ticks\":\"\"},\"caxis\":{\"gridcolor\":\"white\",\"linecolor\":\"white\",\"ticks\":\"\"}},\"coloraxis\":{\"colorbar\":{\"outlinewidth\":0,\"ticks\":\"\"}},\"colorscale\":{\"sequential\":[[0.0,\"#0d0887\"],[0.1111111111111111,\"#46039f\"],[0.2222222222222222,\"#7201a8\"],[0.3333333333333333,\"#9c179e\"],[0.4444444444444444,\"#bd3786\"],[0.5555555555555556,\"#d8576b\"],[0.6666666666666666,\"#ed7953\"],[0.7777777777777778,\"#fb9f3a\"],[0.8888888888888888,\"#fdca26\"],[1.0,\"#f0f921\"]],\"sequentialminus\":[[0.0,\"#0d0887\"],[0.1111111111111111,\"#46039f\"],[0.2222222222222222,\"#7201a8\"],[0.3333333333333333,\"#9c179e\"],[0.4444444444444444,\"#bd3786\"],[0.5555555555555556,\"#d8576b\"],[0.6666666666666666,\"#ed7953\"],[0.7777777777777778,\"#fb9f3a\"],[0.8888888888888888,\"#fdca26\"],[1.0,\"#f0f921\"]],\"diverging\":[[0,\"#8e0152\"],[0.1,\"#c51b7d\"],[0.2,\"#de77ae\"],[0.3,\"#f1b6da\"],[0.4,\"#fde0ef\"],[0.5,\"#f7f7f7\"],[0.6,\"#e6f5d0\"],[0.7,\"#b8e186\"],[0.8,\"#7fbc41\"],[0.9,\"#4d9221\"],[1,\"#276419\"]]},\"xaxis\":{\"gridcolor\":\"white\",\"linecolor\":\"white\",\"ticks\":\"\",\"title\":{\"standoff\":15},\"zerolinecolor\":\"white\",\"automargin\":true,\"zerolinewidth\":2},\"yaxis\":{\"gridcolor\":\"white\",\"linecolor\":\"white\",\"ticks\":\"\",\"title\":{\"standoff\":15},\"zerolinecolor\":\"white\",\"automargin\":true,\"zerolinewidth\":2},\"scene\":{\"xaxis\":{\"backgroundcolor\":\"#E5ECF6\",\"gridcolor\":\"white\",\"linecolor\":\"white\",\"showbackground\":true,\"ticks\":\"\",\"zerolinecolor\":\"white\",\"gridwidth\":2},\"yaxis\":{\"backgroundcolor\":\"#E5ECF6\",\"gridcolor\":\"white\",\"linecolor\":\"white\",\"showbackground\":true,\"ticks\":\"\",\"zerolinecolor\":\"white\",\"gridwidth\":2},\"zaxis\":{\"backgroundcolor\":\"#E5ECF6\",\"gridcolor\":\"white\",\"linecolor\":\"white\",\"showbackground\":true,\"ticks\":\"\",\"zerolinecolor\":\"white\",\"gridwidth\":2}},\"shapedefaults\":{\"line\":{\"color\":\"#2a3f5f\"}},\"annotationdefaults\":{\"arrowcolor\":\"#2a3f5f\",\"arrowhead\":0,\"arrowwidth\":1},\"geo\":{\"bgcolor\":\"white\",\"landcolor\":\"#E5ECF6\",\"subunitcolor\":\"white\",\"showland\":true,\"showlakes\":true,\"lakecolor\":\"white\"},\"title\":{\"x\":0.05},\"mapbox\":{\"style\":\"light\"}}},\"xaxis\":{\"anchor\":\"y\",\"domain\":[0.0,1.0],\"title\":{\"text\":\"country\"}},\"yaxis\":{\"anchor\":\"x\",\"domain\":[0.0,1.0],\"title\":{\"text\":\"gdp\"}},\"legend\":{\"tracegroupgap\":0},\"margin\":{\"t\":60},\"barmode\":\"relative\"},                        {\"responsive\": true}                    ).then(function(){\n",
       "                            \n",
       "var gd = document.getElementById('73e5f312-d519-4cb3-8e81-75b78be57e8b');\n",
       "var x = new MutationObserver(function (mutations, observer) {{\n",
       "        var display = window.getComputedStyle(gd).display;\n",
       "        if (!display || display === 'none') {{\n",
       "            console.log([gd, 'removed!']);\n",
       "            Plotly.purge(gd);\n",
       "            observer.disconnect();\n",
       "        }}\n",
       "}});\n",
       "\n",
       "// Listen for the removal of the full notebook cells\n",
       "var notebookContainer = gd.closest('#notebook-container');\n",
       "if (notebookContainer) {{\n",
       "    x.observe(notebookContainer, {childList: true});\n",
       "}}\n",
       "\n",
       "// Listen for the clearing of the current output cell\n",
       "var outputEl = gd.closest('.output');\n",
       "if (outputEl) {{\n",
       "    x.observe(outputEl, {childList: true});\n",
       "}}\n",
       "\n",
       "                        })                };                });            </script>        </div>"
      ]
     },
     "metadata": {},
     "output_type": "display_data"
    }
   ],
   "source": [
    "px.bar(subset_2020, x=\"country\", y=\"gdp\")"
   ]
  },
  {
   "cell_type": "code",
   "execution_count": 26,
   "id": "dc05769c",
   "metadata": {
    "execution": {
     "iopub.execute_input": "2024-09-25T15:46:55.785537Z",
     "iopub.status.busy": "2024-09-25T15:46:55.784542Z",
     "iopub.status.idle": "2024-09-25T15:46:55.795036Z",
     "shell.execute_reply": "2024-09-25T15:46:55.794086Z"
    },
    "papermill": {
     "duration": 0.029914,
     "end_time": "2024-09-25T15:46:55.797347",
     "exception": false,
     "start_time": "2024-09-25T15:46:55.767433",
     "status": "completed"
    },
    "tags": []
   },
   "outputs": [],
   "source": [
    "subset_2020_Asia = subset_2020[subset_2020['state'].isin([\"Asia\"])]\n",
    "subset_2020_Africa = subset_2020[subset_2020['state'].isin([\"Africa\"])]\n",
    "subset_2020_America = subset_2020[subset_2020['state'].isin([\"America\"])]\n",
    "subset_2020_Europe = subset_2020[subset_2020['state'].isin([\"Europe\"])]\n",
    "subset_2020_Oceania = subset_2020[subset_2020['state'].isin([\"Oceania\"])]"
   ]
  },
  {
   "cell_type": "code",
   "execution_count": 27,
   "id": "175e7d3a",
   "metadata": {
    "execution": {
     "iopub.execute_input": "2024-09-25T15:46:55.831530Z",
     "iopub.status.busy": "2024-09-25T15:46:55.831083Z",
     "iopub.status.idle": "2024-09-25T15:46:55.837379Z",
     "shell.execute_reply": "2024-09-25T15:46:55.836312Z"
    },
    "papermill": {
     "duration": 0.026433,
     "end_time": "2024-09-25T15:46:55.839793",
     "exception": false,
     "start_time": "2024-09-25T15:46:55.813360",
     "status": "completed"
    },
    "tags": []
   },
   "outputs": [],
   "source": [
    "pie_data = [sum(subset_2020_Asia['gdp']),sum(subset_2020_Africa['gdp']),sum(subset_2020_America['gdp']),sum(subset_2020_Europe['gdp']),sum(subset_2020_Oceania['gdp'])];"
   ]
  },
  {
   "cell_type": "code",
   "execution_count": 28,
   "id": "bc0f5ef5",
   "metadata": {
    "execution": {
     "iopub.execute_input": "2024-09-25T15:46:55.872996Z",
     "iopub.status.busy": "2024-09-25T15:46:55.872544Z",
     "iopub.status.idle": "2024-09-25T15:46:56.026235Z",
     "shell.execute_reply": "2024-09-25T15:46:56.023035Z"
    },
    "papermill": {
     "duration": 0.177033,
     "end_time": "2024-09-25T15:46:56.032673",
     "exception": false,
     "start_time": "2024-09-25T15:46:55.855640",
     "status": "completed"
    },
    "tags": []
   },
   "outputs": [
    {
     "data": {
      "image/png": "[encoded data removed]",
      "text/plain": [
       "<Figure size 640x480 with 1 Axes>"
      ]
     },
     "metadata": {},
     "output_type": "display_data"
    }
   ],
   "source": [
    "mylabels = [\"Asia\", \"Africa\", \"America\", \"Europe\",\"Oceania\"]\n",
    "fig = plt.pie(pie_data, labels = mylabels)"
   ]
  },
  {
   "cell_type": "code",
   "execution_count": 29,
   "id": "be5bddd6",
   "metadata": {
    "execution": {
     "iopub.execute_input": "2024-09-25T15:46:56.096956Z",
     "iopub.status.busy": "2024-09-25T15:46:56.096469Z",
     "iopub.status.idle": "2024-09-25T15:46:56.101626Z",
     "shell.execute_reply": "2024-09-25T15:46:56.100517Z"
    },
    "papermill": {
     "duration": 0.035473,
     "end_time": "2024-09-25T15:46:56.103883",
     "exception": false,
     "start_time": "2024-09-25T15:46:56.068410",
     "status": "completed"
    },
    "tags": []
   },
   "outputs": [],
   "source": [
    "pie_df = {'Continent': mylabels,\n",
    "        'GDP': pie_data}"
   ]
  },
  {
   "cell_type": "code",
   "execution_count": 30,
   "id": "6be3315e",
   "metadata": {
    "execution": {
     "iopub.execute_input": "2024-09-25T15:46:56.139496Z",
     "iopub.status.busy": "2024-09-25T15:46:56.138700Z",
     "iopub.status.idle": "2024-09-25T15:46:56.232537Z",
     "shell.execute_reply": "2024-09-25T15:46:56.231581Z"
    },
    "papermill": {
     "duration": 0.114486,
     "end_time": "2024-09-25T15:46:56.234993",
     "exception": false,
     "start_time": "2024-09-25T15:46:56.120507",
     "status": "completed"
    },
    "tags": []
   },
   "outputs": [
    {
     "data": {
      "text/html": [
       "<div>                            <div id=\"ccdb71af-31da-4c55-bef4-f4b1abf13507\" class=\"plotly-graph-div\" style=\"height:525px; width:100%;\"></div>            <script type=\"text/javascript\">                require([\"plotly\"], function(Plotly) {                    window.PLOTLYENV=window.PLOTLYENV || {};                                    if (document.getElementById(\"ccdb71af-31da-4c55-bef4-f4b1abf13507\")) {                    Plotly.newPlot(                        \"ccdb71af-31da-4c55-bef4-f4b1abf13507\",                        [{\"domain\":{\"x\":[0.0,1.0],\"y\":[0.0,1.0]},\"hovertemplate\":\"Continent=%{label}\\u003cbr\\u003eGDP=%{value}\\u003cextra\\u003e\\u003c\\u002fextra\\u003e\",\"labels\":[\"Asia\",\"Africa\",\"America\",\"Europe\",\"Oceania\"],\"legendgroup\":\"\",\"name\":\"\",\"showlegend\":true,\"values\":[25083125336928,2362529908169,26952595024785,21568035429728,1574811971725],\"type\":\"pie\"}],                        {\"template\":{\"data\":{\"histogram2dcontour\":[{\"type\":\"histogram2dcontour\",\"colorbar\":{\"outlinewidth\":0,\"ticks\":\"\"},\"colorscale\":[[0.0,\"#0d0887\"],[0.1111111111111111,\"#46039f\"],[0.2222222222222222,\"#7201a8\"],[0.3333333333333333,\"#9c179e\"],[0.4444444444444444,\"#bd3786\"],[0.5555555555555556,\"#d8576b\"],[0.6666666666666666,\"#ed7953\"],[0.7777777777777778,\"#fb9f3a\"],[0.8888888888888888,\"#fdca26\"],[1.0,\"#f0f921\"]]}],\"choropleth\":[{\"type\":\"choropleth\",\"colorbar\":{\"outlinewidth\":0,\"ticks\":\"\"}}],\"histogram2d\":[{\"type\":\"histogram2d\",\"colorbar\":{\"outlinewidth\":0,\"ticks\":\"\"},\"colorscale\":[[0.0,\"#0d0887\"],[0.1111111111111111,\"#46039f\"],[0.2222222222222222,\"#7201a8\"],[0.3333333333333333,\"#9c179e\"],[0.4444444444444444,\"#bd3786\"],[0.5555555555555556,\"#d8576b\"],[0.6666666666666666,\"#ed7953\"],[0.7777777777777778,\"#fb9f3a\"],[0.8888888888888888,\"#fdca26\"],[1.0,\"#f0f921\"]]}],\"heatmap\":[{\"type\":\"heatmap\",\"colorbar\":{\"outlinewidth\":0,\"ticks\":\"\"},\"colorscale\":[[0.0,\"#0d0887\"],[0.1111111111111111,\"#46039f\"],[0.2222222222222222,\"#7201a8\"],[0.3333333333333333,\"#9c179e\"],[0.4444444444444444,\"#bd3786\"],[0.5555555555555556,\"#d8576b\"],[0.6666666666666666,\"#ed7953\"],[0.7777777777777778,\"#fb9f3a\"],[0.8888888888888888,\"#fdca26\"],[1.0,\"#f0f921\"]]}],\"heatmapgl\":[{\"type\":\"heatmapgl\",\"colorbar\":{\"outlinewidth\":0,\"ticks\":\"\"},\"colorscale\":[[0.0,\"#0d0887\"],[0.1111111111111111,\"#46039f\"],[0.2222222222222222,\"#7201a8\"],[0.3333333333333333,\"#9c179e\"],[0.4444444444444444,\"#bd3786\"],[0.5555555555555556,\"#d8576b\"],[0.6666666666666666,\"#ed7953\"],[0.7777777777777778,\"#fb9f3a\"],[0.8888888888888888,\"#fdca26\"],[1.0,\"#f0f921\"]]}],\"contourcarpet\":[{\"type\":\"contourcarpet\",\"colorbar\":{\"outlinewidth\":0,\"ticks\":\"\"}}],\"contour\":[{\"type\":\"contour\",\"colorbar\":{\"outlinewidth\":0,\"ticks\":\"\"},\"colorscale\":[[0.0,\"#0d0887\"],[0.1111111111111111,\"#46039f\"],[0.2222222222222222,\"#7201a8\"],[0.3333333333333333,\"#9c179e\"],[0.4444444444444444,\"#bd3786\"],[0.5555555555555556,\"#d8576b\"],[0.6666666666666666,\"#ed7953\"],[0.7777777777777778,\"#fb9f3a\"],[0.8888888888888888,\"#fdca26\"],[1.0,\"#f0f921\"]]}],\"surface\":[{\"type\":\"surface\",\"colorbar\":{\"outlinewidth\":0,\"ticks\":\"\"},\"colorscale\":[[0.0,\"#0d0887\"],[0.1111111111111111,\"#46039f\"],[0.2222222222222222,\"#7201a8\"],[0.3333333333333333,\"#9c179e\"],[0.4444444444444444,\"#bd3786\"],[0.5555555555555556,\"#d8576b\"],[0.6666666666666666,\"#ed7953\"],[0.7777777777777778,\"#fb9f3a\"],[0.8888888888888888,\"#fdca26\"],[1.0,\"#f0f921\"]]}],\"mesh3d\":[{\"type\":\"mesh3d\",\"colorbar\":{\"outlinewidth\":0,\"ticks\":\"\"}}],\"scatter\":[{\"fillpattern\":{\"fillmode\":\"overlay\",\"size\":10,\"solidity\":0.2},\"type\":\"scatter\"}],\"parcoords\":[{\"type\":\"parcoords\",\"line\":{\"colorbar\":{\"outlinewidth\":0,\"ticks\":\"\"}}}],\"scatterpolargl\":[{\"type\":\"scatterpolargl\",\"marker\":{\"colorbar\":{\"outlinewidth\":0,\"ticks\":\"\"}}}],\"bar\":[{\"error_x\":{\"color\":\"#2a3f5f\"},\"error_y\":{\"color\":\"#2a3f5f\"},\"marker\":{\"line\":{\"color\":\"#E5ECF6\",\"width\":0.5},\"pattern\":{\"fillmode\":\"overlay\",\"size\":10,\"solidity\":0.2}},\"type\":\"bar\"}],\"scattergeo\":[{\"type\":\"scattergeo\",\"marker\":{\"colorbar\":{\"outlinewidth\":0,\"ticks\":\"\"}}}],\"scatterpolar\":[{\"type\":\"scatterpolar\",\"marker\":{\"colorbar\":{\"outlinewidth\":0,\"ticks\":\"\"}}}],\"histogram\":[{\"marker\":{\"pattern\":{\"fillmode\":\"overlay\",\"size\":10,\"solidity\":0.2}},\"type\":\"histogram\"}],\"scattergl\":[{\"type\":\"scattergl\",\"marker\":{\"colorbar\":{\"outlinewidth\":0,\"ticks\":\"\"}}}],\"scatter3d\":[{\"type\":\"scatter3d\",\"line\":{\"colorbar\":{\"outlinewidth\":0,\"ticks\":\"\"}},\"marker\":{\"colorbar\":{\"outlinewidth\":0,\"ticks\":\"\"}}}],\"scattermapbox\":[{\"type\":\"scattermapbox\",\"marker\":{\"colorbar\":{\"outlinewidth\":0,\"ticks\":\"\"}}}],\"scatterternary\":[{\"type\":\"scatterternary\",\"marker\":{\"colorbar\":{\"outlinewidth\":0,\"ticks\":\"\"}}}],\"scattercarpet\":[{\"type\":\"scattercarpet\",\"marker\":{\"colorbar\":{\"outlinewidth\":0,\"ticks\":\"\"}}}],\"carpet\":[{\"aaxis\":{\"endlinecolor\":\"#2a3f5f\",\"gridcolor\":\"white\",\"linecolor\":\"white\",\"minorgridcolor\":\"white\",\"startlinecolor\":\"#2a3f5f\"},\"baxis\":{\"endlinecolor\":\"#2a3f5f\",\"gridcolor\":\"white\",\"linecolor\":\"white\",\"minorgridcolor\":\"white\",\"startlinecolor\":\"#2a3f5f\"},\"type\":\"carpet\"}],\"table\":[{\"cells\":{\"fill\":{\"color\":\"#EBF0F8\"},\"line\":{\"color\":\"white\"}},\"header\":{\"fill\":{\"color\":\"#C8D4E3\"},\"line\":{\"color\":\"white\"}},\"type\":\"table\"}],\"barpolar\":[{\"marker\":{\"line\":{\"color\":\"#E5ECF6\",\"width\":0.5},\"pattern\":{\"fillmode\":\"overlay\",\"size\":10,\"solidity\":0.2}},\"type\":\"barpolar\"}],\"pie\":[{\"automargin\":true,\"type\":\"pie\"}]},\"layout\":{\"autotypenumbers\":\"strict\",\"colorway\":[\"#636efa\",\"#EF553B\",\"#00cc96\",\"#ab63fa\",\"#FFA15A\",\"#19d3f3\",\"#FF6692\",\"#B6E880\",\"#FF97FF\",\"#FECB52\"],\"font\":{\"color\":\"#2a3f5f\"},\"hovermode\":\"closest\",\"hoverlabel\":{\"align\":\"left\"},\"paper_bgcolor\":\"white\",\"plot_bgcolor\":\"#E5ECF6\",\"polar\":{\"bgcolor\":\"#E5ECF6\",\"angularaxis\":{\"gridcolor\":\"white\",\"linecolor\":\"white\",\"ticks\":\"\"},\"radialaxis\":{\"gridcolor\":\"white\",\"linecolor\":\"white\",\"ticks\":\"\"}},\"ternary\":{\"bgcolor\":\"#E5ECF6\",\"aaxis\":{\"gridcolor\":\"white\",\"linecolor\":\"white\",\"ticks\":\"\"},\"baxis\":{\"gridcolor\":\"white\",\"linecolor\":\"white\",\"ticks\":\"\"},\"caxis\":{\"gridcolor\":\"white\",\"linecolor\":\"white\",\"ticks\":\"\"}},\"coloraxis\":{\"colorbar\":{\"outlinewidth\":0,\"ticks\":\"\"}},\"colorscale\":{\"sequential\":[[0.0,\"#0d0887\"],[0.1111111111111111,\"#46039f\"],[0.2222222222222222,\"#7201a8\"],[0.3333333333333333,\"#9c179e\"],[0.4444444444444444,\"#bd3786\"],[0.5555555555555556,\"#d8576b\"],[0.6666666666666666,\"#ed7953\"],[0.7777777777777778,\"#fb9f3a\"],[0.8888888888888888,\"#fdca26\"],[1.0,\"#f0f921\"]],\"sequentialminus\":[[0.0,\"#0d0887\"],[0.1111111111111111,\"#46039f\"],[0.2222222222222222,\"#7201a8\"],[0.3333333333333333,\"#9c179e\"],[0.4444444444444444,\"#bd3786\"],[0.5555555555555556,\"#d8576b\"],[0.6666666666666666,\"#ed7953\"],[0.7777777777777778,\"#fb9f3a\"],[0.8888888888888888,\"#fdca26\"],[1.0,\"#f0f921\"]],\"diverging\":[[0,\"#8e0152\"],[0.1,\"#c51b7d\"],[0.2,\"#de77ae\"],[0.3,\"#f1b6da\"],[0.4,\"#fde0ef\"],[0.5,\"#f7f7f7\"],[0.6,\"#e6f5d0\"],[0.7,\"#b8e186\"],[0.8,\"#7fbc41\"],[0.9,\"#4d9221\"],[1,\"#276419\"]]},\"xaxis\":{\"gridcolor\":\"white\",\"linecolor\":\"white\",\"ticks\":\"\",\"title\":{\"standoff\":15},\"zerolinecolor\":\"white\",\"automargin\":true,\"zerolinewidth\":2},\"yaxis\":{\"gridcolor\":\"white\",\"linecolor\":\"white\",\"ticks\":\"\",\"title\":{\"standoff\":15},\"zerolinecolor\":\"white\",\"automargin\":true,\"zerolinewidth\":2},\"scene\":{\"xaxis\":{\"backgroundcolor\":\"#E5ECF6\",\"gridcolor\":\"white\",\"linecolor\":\"white\",\"showbackground\":true,\"ticks\":\"\",\"zerolinecolor\":\"white\",\"gridwidth\":2},\"yaxis\":{\"backgroundcolor\":\"#E5ECF6\",\"gridcolor\":\"white\",\"linecolor\":\"white\",\"showbackground\":true,\"ticks\":\"\",\"zerolinecolor\":\"white\",\"gridwidth\":2},\"zaxis\":{\"backgroundcolor\":\"#E5ECF6\",\"gridcolor\":\"white\",\"linecolor\":\"white\",\"showbackground\":true,\"ticks\":\"\",\"zerolinecolor\":\"white\",\"gridwidth\":2}},\"shapedefaults\":{\"line\":{\"color\":\"#2a3f5f\"}},\"annotationdefaults\":{\"arrowcolor\":\"#2a3f5f\",\"arrowhead\":0,\"arrowwidth\":1},\"geo\":{\"bgcolor\":\"white\",\"landcolor\":\"#E5ECF6\",\"subunitcolor\":\"white\",\"showland\":true,\"showlakes\":true,\"lakecolor\":\"white\"},\"title\":{\"x\":0.05},\"mapbox\":{\"style\":\"light\"}}},\"legend\":{\"tracegroupgap\":0},\"margin\":{\"t\":60}},                        {\"responsive\": true}                    ).then(function(){\n",
       "                            \n",
       "var gd = document.getElementById('ccdb71af-31da-4c55-bef4-f4b1abf13507');\n",
       "var x = new MutationObserver(function (mutations, observer) {{\n",
       "        var display = window.getComputedStyle(gd).display;\n",
       "        if (!display || display === 'none') {{\n",
       "            console.log([gd, 'removed!']);\n",
       "            Plotly.purge(gd);\n",
       "            observer.disconnect();\n",
       "        }}\n",
       "}});\n",
       "\n",
       "// Listen for the removal of the full notebook cells\n",
       "var notebookContainer = gd.closest('#notebook-container');\n",
       "if (notebookContainer) {{\n",
       "    x.observe(notebookContainer, {childList: true});\n",
       "}}\n",
       "\n",
       "// Listen for the clearing of the current output cell\n",
       "var outputEl = gd.closest('.output');\n",
       "if (outputEl) {{\n",
       "    x.observe(outputEl, {childList: true});\n",
       "}}\n",
       "\n",
       "                        })                };                });            </script>        </div>"
      ]
     },
     "metadata": {},
     "output_type": "display_data"
    }
   ],
   "source": [
    "px.pie(pie_df,values=\"GDP\",names=\"Continent\")"
   ]
  }
 ],
 "metadata": {
  "kaggle": {
   "accelerator": "none",
   "dataSources": [
    {
     "datasetId": 1862977,
     "sourceId": 3042455,
     "sourceType": "datasetVersion"
    }
   ],
   "dockerImageVersionId": 30761,
   "isGpuEnabled": false,
   "isInternetEnabled": false,
   "language": "python",
   "sourceType": "notebook"
  },
  "kernelspec": {
   "display_name": "Python 3",
   "language": "python",
   "name": "python3"
  },
  "language_info": {
   "codemirror_mode": {
    "name": "ipython",
    "version": 3
   },
   "file_extension": ".py",
   "mimetype": "text/x-python",
   "name": "python",
   "nbconvert_exporter": "python",
   "pygments_lexer": "ipython3",
   "version": "3.10.14"
  },
  "papermill": {
   "default_parameters": {},
   "duration": 11.997837,
   "end_time": "2024-09-25T15:46:56.973942",
   "environment_variables": {},
   "exception": null,
   "input_path": "__notebook__.ipynb",
   "output_path": "__notebook__.ipynb",
   "parameters": {},
   "start_time": "2024-09-25T15:46:44.976105",
   "version": "2.6.0"
  }
 },
 "nbformat": 4,
 "nbformat_minor": 5
}
